{
  "cells": [
    {
      "cell_type": "code",
      "execution_count": 2,
      "metadata": {
        "colab": {
          "base_uri": "https://localhost:8080/"
        },
        "id": "7L0nBQT4xSHN",
        "outputId": "4250d08e-4cc2-40f5-cff0-695b0f077986"
      },
      "outputs": [
        {
          "output_type": "stream",
          "name": "stdout",
          "text": [
            "Mounted at /content/drive\n"
          ]
        }
      ],
      "source": [
        "from google.colab import drive\n",
        "drive.mount('/content/drive')"
      ]
    },
    {
      "cell_type": "code",
      "execution_count": 3,
      "metadata": {
        "id": "m8IM8pouw7Aq"
      },
      "outputs": [],
      "source": [
        "import pandas as pd\n",
        "import statsmodels.api as sm\n",
        "import matplotlib.pyplot as plt\n",
        "import seaborn as sns\n",
        "\n",
        "df = pd.read_csv(\"drive/MyDrive/hse_diploma/data_after_selection.csv\")\n",
        "del df[\"Unnamed: 0\"]\n",
        "df['time'] = pd.to_datetime(df['time'])\n",
        "df = df.set_index('time').sort_index()\n",
        "df = df.asfreq('MS')\n",
        "\n",
        "X = df.copy()\n",
        "X['inflation_rate'] = X.inflation_rate.shift(-6)\n",
        "X.dropna(inplace=True)"
      ]
    },
    {
      "cell_type": "markdown",
      "metadata": {
        "id": "0qyxUKdlw7At"
      },
      "source": [
        "# Пример"
      ]
    },
    {
      "cell_type": "code",
      "execution_count": 4,
      "metadata": {
        "colab": {
          "base_uri": "https://localhost:8080/"
        },
        "id": "sfhVvKZDw7At",
        "outputId": "83c3d7c7-fb87-40fb-89f4-e11d7c78d79a",
        "collapsed": true
      },
      "outputs": [
        {
          "output_type": "stream",
          "name": "stderr",
          "text": [
            "/usr/local/lib/python3.11/dist-packages/statsmodels/base/model.py:607: ConvergenceWarning: Maximum Likelihood optimization failed to converge. Check mle_retvals\n",
            "  warnings.warn(\"Maximum Likelihood optimization failed to \"\n"
          ]
        },
        {
          "output_type": "stream",
          "name": "stdout",
          "text": [
            "                                     SARIMAX Results                                      \n",
            "==========================================================================================\n",
            "Dep. Variable:                     inflation_rate   No. Observations:                  280\n",
            "Model:             SARIMAX(1, 1, 1)x(1, 1, 1, 12)   Log Likelihood                -150.652\n",
            "Date:                            Fri, 23 May 2025   AIC                            911.304\n",
            "Time:                                    10:43:25   BIC                           1988.988\n",
            "Sample:                                01-01-2001   HQIC                          1344.892\n",
            "                                     - 04-01-2024                                         \n",
            "Covariance Type:                              opg                                         \n",
            "===========================================================================================================================================================================\n",
            "                                                                                                              coef    std err          z      P>|z|      [0.025      0.975]\n",
            "---------------------------------------------------------------------------------------------------------------------------------------------------------------------------\n",
            "value__quantile__q_0_3__housing_index__6M                                                                   0.3311      0.086      3.873      0.000       0.164       0.499\n",
            "value__quantile__q_0_2__housing_index__6M                                                                   0.3647      0.138      2.652      0.008       0.095       0.634\n",
            "value__agg_linear_trend__attr_\"intercept\"__chunk_len_5__f_agg_\"min\"__housing_index__6M                      0.2855      0.326      0.876      0.381      -0.353       0.924\n",
            "value__cwt_coefficients__coeff_2__w_5__widths_2_5_10_20__housing_index__6M                                 -0.5345      0.046    -11.514      0.000      -0.625      -0.444\n",
            "value__cwt_coefficients__coeff_0__w_10__widths_2_5_10_20__housing_index__6M                                 0.5276      0.081      6.492      0.000       0.368       0.687\n",
            "value__linear_trend__attr_\"intercept\"__housing_index__6M                                                    0.4171      0.140      2.981      0.003       0.143       0.691\n",
            "value__agg_linear_trend__attr_\"intercept\"__chunk_len_5__f_agg_\"mean\"__housing_index__6M                     0.3600      0.074      4.845      0.000       0.214       0.506\n",
            "value__quantile__q_0_1__housing_index__6M                                                                   0.2545      0.098      2.602      0.009       0.063       0.446\n",
            "value__cwt_coefficients__coeff_1__w_10__widths_2_5_10_20__housing_index__6M                                -0.8377      0.083    -10.060      0.000      -1.001      -0.675\n",
            "value__median__housing_index__6M                                                                            0.0866      0.111      0.778      0.437      -0.132       0.305\n",
            "value__cwt_coefficients__coeff_1__w_5__widths_2_5_10_20__housing_index__6M                                 -0.3354      0.050     -6.670      0.000      -0.434      -0.237\n",
            "value__cwt_coefficients__coeff_2__w_10__widths_2_5_10_20__housing_index__6M                                -0.0289      0.082     -0.351      0.725      -0.190       0.132\n",
            "value__cwt_coefficients__coeff_0__w_20__widths_2_5_10_20__housing_index__6M                                -0.7871      0.097     -8.121      0.000      -0.977      -0.597\n",
            "value__quantile__q_0_4__housing_index__6M                                                                   0.2975      0.110      2.711      0.007       0.082       0.513\n",
            "value__cwt_coefficients__coeff_4__w_20__widths_2_5_10_20__housing_index__6M                                 0.3580      0.137      2.608      0.009       0.089       0.627\n",
            "value__minimum__housing_index__6M                                                                           0.1443      0.205      0.704      0.481      -0.257       0.546\n",
            "value__cwt_coefficients__coeff_3__w_20__widths_2_5_10_20__housing_index__6M                                 0.3561      0.091      3.923      0.000       0.178       0.534\n",
            "value__root_mean_square__housing_index__6M                                                                  8.1564      0.034    240.762      0.000       8.090       8.223\n",
            "value__cwt_coefficients__coeff_3__w_10__widths_2_5_10_20__housing_index__6M                                 0.4563      0.104      4.376      0.000       0.252       0.661\n",
            "value__cwt_coefficients__coeff_3__w_2__widths_2_5_10_20__housing_index__6M                                  0.8551      0.170      5.018      0.000       0.521       1.189\n",
            "value__fft_coefficient__attr_\"abs\"__coeff_0__housing_index__6M                                             -0.6550      0.146     -4.474      0.000      -0.942      -0.368\n",
            "value__fft_coefficient__attr_\"real\"__coeff_0__housing_index__6M                                            -0.6550      0.146     -4.475      0.000      -0.942      -0.368\n",
            "value__sum_values__housing_index__6M                                                                       -0.6550      0.146     -4.480      0.000      -0.942      -0.368\n",
            "value__mean__housing_index__6M                                                                              0.2307      0.033      6.968      0.000       0.166       0.296\n",
            "value__cwt_coefficients__coeff_1__w_20__widths_2_5_10_20__housing_index__6M                                 0.5512      0.025     21.759      0.000       0.502       0.601\n",
            "value__quantile__q_0_6__housing_index__6M                                                                  -0.1245      0.185     -0.674      0.500      -0.486       0.238\n",
            "value__cwt_coefficients__coeff_5__w_20__widths_2_5_10_20__housing_index__6M                                -0.2579      0.085     -3.045      0.002      -0.424      -0.092\n",
            "value__cwt_coefficients__coeff_3__w_5__widths_2_5_10_20__housing_index__6M                                  0.6762      0.072      9.450      0.000       0.536       0.816\n",
            "value__maximum__national_home_price_index__3M                                                               4.7393      0.180     26.287      0.000       4.386       5.093\n",
            "value__absolute_maximum__national_home_price_index__3M                                                      4.7393      0.181     26.120      0.000       4.384       5.095\n",
            "value__cwt_coefficients__coeff_0__w_5__widths_2_5_10_20__housing_index__6M                                  0.3832      0.056      6.890      0.000       0.274       0.492\n",
            "value__cwt_coefficients__coeff_2__w_20__widths_2_5_10_20__housing_index__6M                                -0.6766      0.031    -22.165      0.000      -0.736      -0.617\n",
            "value__quantile__q_0_8__national_home_price_index__3M                                                       3.8778      0.101     38.458      0.000       3.680       4.075\n",
            "value__cwt_coefficients__coeff_2__w_2__widths_2_5_10_20__housing_index__6M                                 -1.1759      0.367     -3.205      0.001      -1.895      -0.457\n",
            "value__cwt_coefficients__coeff_5__w_10__widths_2_5_10_20__housing_index__6M                                 1.0555      0.137      7.700      0.000       0.787       1.324\n",
            "value__cwt_coefficients__coeff_4__w_10__widths_2_5_10_20__housing_index__6M                                -0.3512      0.103     -3.410      0.001      -0.553      -0.149\n",
            "value__cwt_coefficients__coeff_2__w_2__widths_2_5_10_20__national_home_price_index__3M                     -2.6009      0.057    -45.575      0.000      -2.713      -2.489\n",
            "value__minimum__national_home_price_index__2M                                                              -7.1605      0.177    -40.529      0.000      -7.507      -6.814\n",
            "national_home_price_index                                                                                   0.7280      0.388      1.878      0.060      -0.032       1.488\n",
            "value__quantile__q_0_1__national_home_price_index__2M                                                      -6.9696      0.154    -45.183      0.000      -7.272      -6.667\n",
            "value__cwt_coefficients__coeff_4__w_5__widths_2_5_10_20__housing_index__6M                                 -0.0660      0.046     -1.423      0.155      -0.157       0.025\n",
            "value__quantile__q_0_9__national_home_price_index__3M                                                       4.3086      0.115     37.453      0.000       4.083       4.534\n",
            "value__quantile__q_0_7__national_home_price_index__3M                                                       3.4471      0.155     22.264      0.000       3.144       3.751\n",
            "value__cwt_coefficients__coeff_0__w_2__widths_2_5_10_20__housing_index__3M                                  5.2480      0.075     69.517      0.000       5.100       5.396\n",
            "value__cwt_coefficients__coeff_0__w_2__widths_2_5_10_20__national_home_price_index__2M                     -7.0619      0.194    -36.363      0.000      -7.443      -6.681\n",
            "value__cwt_coefficients__coeff_0__w_10__widths_2_5_10_20__national_home_price_index__2M                    -3.2882      0.051    -64.256      0.000      -3.388      -3.188\n",
            "value__cwt_coefficients__coeff_5__w_5__widths_2_5_10_20__housing_index__6M                                  0.4230      0.118      3.582      0.000       0.192       0.654\n",
            "value__absolute_maximum__national_home_price_index__6M                                                      0.0348      0.187      0.187      0.852      -0.331       0.401\n",
            "value__quantile__q_0_2__national_home_price_index__2M                                                      -6.7787      0.134    -50.594      0.000      -7.041      -6.516\n",
            "value__maximum__national_home_price_index__6M                                                               0.0348      0.187      0.187      0.852      -0.331       0.401\n",
            "value__quantile__q_0_3__national_home_price_index__2M                                                      -6.5877      0.117    -56.306      0.000      -6.817      -6.358\n",
            "value__quantile__q_0_4__national_home_price_index__2M                                                      -6.3968      0.105    -60.975      0.000      -6.602      -6.191\n",
            "value__cwt_coefficients__coeff_0__w_20__widths_2_5_10_20__national_home_price_index__3M                     2.2204      0.055     40.475      0.000       2.113       2.328\n",
            "value__cwt_coefficients__coeff_2__w_5__widths_2_5_10_20__national_home_price_index__3M                      3.0842      0.076     40.743      0.000       2.936       3.233\n",
            "value__cwt_coefficients__coeff_1__w_10__widths_2_5_10_20__national_home_price_index__3M                     3.0636      0.068     44.936      0.000       2.930       3.197\n",
            "value__quantile__q_0_6__national_home_price_index__2M                                                      -6.0150      0.102    -59.043      0.000      -6.215      -5.815\n",
            "value__median__national_home_price_index__2M                                                               -6.2059      0.100    -62.364      0.000      -6.401      -6.011\n",
            "value__fft_coefficient__attr_\"abs\"__coeff_0__national_home_price_index__2M                                -12.8673      0.204    -62.954      0.000     -13.268     -12.467\n",
            "value__cwt_coefficients__coeff_1__w_20__widths_2_5_10_20__national_home_price_index__2M                    -2.3952      0.038    -62.528      0.000      -2.470      -2.320\n",
            "value__cwt_coefficients__coeff_1__w_2__widths_2_5_10_20__national_home_price_index__2M                     -7.1361      0.114    -62.528      0.000      -7.360      -6.912\n",
            "value__sum_values__national_home_price_index__2M                                                          -12.8673      0.204    -62.954      0.000     -13.268     -12.467\n",
            "value__fft_coefficient__attr_\"real\"__coeff_0__national_home_price_index__2M                               -12.8673      0.204    -62.954      0.000     -13.268     -12.467\n",
            "value__cwt_coefficients__coeff_1__w_10__widths_2_5_10_20__national_home_price_index__2M                    -3.3762      0.054    -62.528      0.000      -3.482      -3.270\n",
            "value__root_mean_square__national_home_price_index__2M                                                    242.1332      0.100   2429.161      0.000     241.938     242.329\n",
            "value__cwt_coefficients__coeff_0__w_20__widths_2_5_10_20__national_home_price_index__2M                    -2.3396      0.037    -62.779      0.000      -2.413      -2.267\n",
            "value__mean__national_home_price_index__2M                                                                 -6.2059      0.100    -62.364      0.000      -6.401      -6.011\n",
            "value__cwt_coefficients__coeff_1__w_5__widths_2_5_10_20__national_home_price_index__2M                     -5.0891      0.081    -62.528      0.000      -5.249      -4.930\n",
            "value__cwt_coefficients__coeff_2__w_20__widths_2_5_10_20__national_home_price_index__3M                     1.9741      0.043     45.705      0.000       1.889       2.059\n",
            "value__mean__national_home_price_index__3M                                                                  4.5927      0.087     52.773      0.000       4.422       4.763\n",
            "value__fft_coefficient__attr_\"real\"__coeff_0__national_home_price_index__3M                                12.2338      0.247     49.500      0.000      11.749      12.718\n",
            "value__fft_coefficient__attr_\"abs\"__coeff_0__national_home_price_index__3M                                 12.2338      0.247     49.500      0.000      11.749      12.718\n",
            "value__sum_values__national_home_price_index__3M                                                           12.2338      0.247     49.500      0.000      11.749      12.718\n",
            "value__quantile__q_0_9__national_home_price_index__6M                                                       0.0530      0.140      0.380      0.704      -0.221       0.327\n",
            "value__cwt_coefficients__coeff_1__w_20__widths_2_5_10_20__national_home_price_index__3M                     2.1808      0.045     48.713      0.000       2.093       2.268\n",
            "value__cwt_coefficients__coeff_0__w_5__widths_2_5_10_20__national_home_price_index__2M                     -4.9829      0.085    -58.594      0.000      -5.150      -4.816\n",
            "value__linear_trend__attr_\"intercept\"__housing_index__3M                                                    7.2793      0.102     71.284      0.000       7.079       7.479\n",
            "value__root_mean_square__national_home_price_index__3M                                                   -264.4223      0.087  -3053.840      0.000    -264.592    -264.253\n",
            "value__quantile__q_0_6__national_home_price_index__3M                                                       3.0164      0.234     12.907      0.000       2.558       3.474\n",
            "value__absolute_maximum__national_home_price_index__2M                                                     -5.2514      0.168    -31.339      0.000      -5.580      -4.923\n",
            "value__maximum__national_home_price_index__2M                                                              -5.2514      0.168    -31.339      0.000      -5.580      -4.923\n",
            "value__quantile__q_0_7__housing_index__6M                                                                   0.1264      0.096      1.321      0.186      -0.061       0.314\n",
            "value__maximum__housing_index__6M                                                                           0.3249      0.240      1.356      0.175      -0.145       0.795\n",
            "value__quantile__q_0_7__national_home_price_index__2M                                                      -5.8241      0.112    -52.230      0.000      -6.043      -5.606\n",
            "value__absolute_maximum__housing_index__6M                                                                  0.3249      0.240      1.356      0.175      -0.145       0.795\n",
            "value__cwt_coefficients__coeff_4__w_2__widths_2_5_10_20__national_home_price_index__6M                      0.9823      0.263      3.733      0.000       0.467       1.498\n",
            "value__minimum__housing_index__3M                                                                           3.1869      0.144     22.207      0.000       2.906       3.468\n",
            "value__cwt_coefficients__coeff_1__w_5__widths_2_5_10_20__national_home_price_index__3M                      4.6461      0.092     50.508      0.000       4.466       4.826\n",
            "value__agg_linear_trend__attr_\"intercept\"__chunk_len_5__f_agg_\"max\"__housing_index__6M                     -0.1378      0.645     -0.214      0.831      -1.402       1.127\n",
            "value__cwt_coefficients__coeff_2__w_10__widths_2_5_10_20__national_home_price_index__3M                     3.6778      0.074     49.439      0.000       3.532       3.824\n",
            "value__cwt_coefficients__coeff_0__w_10__widths_2_5_10_20__national_home_price_index__3M                     2.6846      0.058     46.370      0.000       2.571       2.798\n",
            "value__quantile__q_0_9__housing_index__6M                                                                   0.3511      0.125      2.813      0.005       0.106       0.596\n",
            "value__cwt_coefficients__coeff_0__w_5__widths_2_5_10_20__national_home_price_index__3M                      5.4100      0.100     53.936      0.000       5.213       5.607\n",
            "value__median__national_home_price_index__3M                                                                2.5856      0.320      8.092      0.000       1.959       3.212\n",
            "value__quantile__q_0_8__housing_index__6M                                                                   0.3774      0.200      1.885      0.059      -0.015       0.770\n",
            "value__cwt_coefficients__coeff_1__w_2__widths_2_5_10_20__national_home_price_index__3M                      6.5957      0.160     41.134      0.000       6.281       6.910\n",
            "value__linear_trend__attr_\"intercept\"__national_home_price_index__2M                                      -13.5200      0.482    -28.023      0.000     -14.466     -12.574\n",
            "value__quantile__q_0_8__national_home_price_index__2M                                                      -5.6332      0.127    -44.438      0.000      -5.882      -5.385\n",
            "value__quantile__q_0_9__national_home_price_index__2M                                                      -5.4423      0.146    -37.304      0.000      -5.728      -5.156\n",
            "value__cwt_coefficients__coeff_1__w_2__widths_2_5_10_20__housing_index__6M                                 -0.3704      0.295     -1.255      0.210      -0.949       0.208\n",
            "value__quantile__q_0_1__national_home_price_index__6M                                                       0.0964      0.138      0.699      0.485      -0.174       0.367\n",
            "value__cwt_coefficients__coeff_1__w_2__widths_2_5_10_20__housing_index__3M                                  2.4885      0.057     43.798      0.000       2.377       2.600\n",
            "value__quantile__q_0_1__housing_index__3M                                                                   2.7328      0.093     29.315      0.000       2.550       2.916\n",
            "value__quantile__q_0_2__national_home_price_index__6M                                                       0.1362      0.297      0.458      0.647      -0.446       0.719\n",
            "value__cwt_coefficients__coeff_5__w_5__widths_2_5_10_20__national_home_price_index__6M                      0.2115      0.124      1.699      0.089      -0.032       0.455\n",
            "value__quantile__q_0_9__case_shiller_home_price_index__6M                                                  -0.2233      0.129     -1.729      0.084      -0.476       0.030\n",
            "value__cwt_coefficients__coeff_0__w_5__widths_2_5_10_20__housing_index__3M                                  2.0854      0.037     56.998      0.000       2.014       2.157\n",
            "value__quantile__q_0_4__national_home_price_index__3M                                                       3.3591      0.226     14.846      0.000       2.916       3.803\n",
            "value__quantile__q_0_1__housing_index__2M                                                                  -2.9598      0.091    -32.601      0.000      -3.138      -2.782\n",
            "value__minimum__housing_index__2M                                                                          -3.0353      0.109    -27.762      0.000      -3.250      -2.821\n",
            "value__minimum__national_home_price_index__6M                                                               0.0566      0.388      0.146      0.884      -0.704       0.817\n",
            "value__median__housing_index__3M                                                                            0.9163      0.161      5.679      0.000       0.600       1.233\n",
            "value__cwt_coefficients__coeff_2__w_2__widths_2_5_10_20__housing_index__3M                                 -2.2020      0.029    -75.638      0.000      -2.259      -2.145\n",
            "value__cwt_coefficients__coeff_2__w_10__widths_2_5_10_20__housing_index__3M                                 0.9462      0.028     33.625      0.000       0.891       1.001\n",
            "value__quantile__q_0_6__housing_index__3M                                                                   1.1555      0.119      9.743      0.000       0.923       1.388\n",
            "value__cwt_coefficients__coeff_0__w_10__widths_2_5_10_20__housing_index__3M                                 0.8926      0.023     39.456      0.000       0.848       0.937\n",
            "value__linear_trend__attr_\"intercept\"__housing_index__2M                                                   -5.8914      0.152    -38.783      0.000      -6.189      -5.594\n",
            "value__cwt_coefficients__coeff_1__w_5__widths_2_5_10_20__housing_index__3M                                  1.5096      0.038     39.520      0.000       1.435       1.584\n",
            "value__cwt_coefficients__coeff_1__w_10__widths_2_5_10_20__housing_index__3M                                 0.9143      0.030     30.729      0.000       0.856       0.973\n",
            "value__quantile__q_0_3__national_home_price_index__3M                                                       4.1327      0.145     28.416      0.000       3.848       4.418\n",
            "value__cwt_coefficients__coeff_4__w_5__widths_2_5_10_20__national_home_price_index__6M                     -0.4422      0.091     -4.882      0.000      -0.620      -0.265\n",
            "value__cwt_coefficients__coeff_0__w_20__widths_2_5_10_20__housing_index__3M                                 0.6818      0.023     30.264      0.000       0.638       0.726\n",
            "value__cwt_coefficients__coeff_2__w_5__widths_2_5_10_20__housing_index__3M                                  0.4297      0.032     13.420      0.000       0.367       0.492\n",
            "value__quantile__q_0_2__housing_index__2M                                                                  -2.8843      0.073    -39.652      0.000      -3.027      -2.742\n",
            "value__quantile__q_0_4__housing_index__3M                                                                   1.3704      0.109     12.536      0.000       1.156       1.585\n",
            "value__cwt_coefficients__coeff_0__w_10__widths_2_5_10_20__housing_index__2M                                -1.5383      0.018    -85.066      0.000      -1.574      -1.503\n",
            "value__quantile__q_0_2__national_home_price_index__3M                                                       4.9062      0.109     44.825      0.000       4.692       5.121\n",
            "value__cwt_coefficients__coeff_1__w_20__widths_2_5_10_20__housing_index__3M                                 0.6826      0.019     35.650      0.000       0.645       0.720\n",
            "value__fft_coefficient__attr_\"real\"__coeff_0__housing_index__3M                                             4.1425      0.098     42.190      0.000       3.950       4.335\n",
            "value__sum_values__housing_index__3M                                                                        4.1425      0.098     42.190      0.000       3.950       4.335\n",
            "value__fft_coefficient__attr_\"abs\"__coeff_0__housing_index__3M                                              4.1425      0.098     42.190      0.000       3.950       4.335\n",
            "value__mean__housing_index__3M                                                                              2.0718      0.040     51.297      0.000       1.993       2.151\n",
            "value__root_mean_square__housing_index__3M                                                               -102.0674      0.040  -2541.618      0.000    -102.146    -101.989\n",
            "value__cwt_coefficients__coeff_2__w_20__widths_2_5_10_20__housing_index__3M                                 0.4141      0.017     24.083      0.000       0.380       0.448\n",
            "value__quantile__q_0_2__housing_index__3M                                                                   2.2787      0.057     39.780      0.000       2.166       2.391\n",
            "value__quantile__q_0_7__housing_index__3M                                                                   1.3946      0.080     17.474      0.000       1.238       1.551\n",
            "value__cwt_coefficients__coeff_0__w_2__widths_2_5_10_20__housing_index__2M                                 -3.0163      0.058    -51.718      0.000      -3.131      -2.902\n",
            "value__quantile__q_0_3__housing_index__3M                                                                   1.8246      0.066     27.606      0.000       1.695       1.954\n",
            "value__abs_energy__national_home_price_index__3M                                                           -0.0023      0.007     -0.351      0.726      -0.015       0.011\n",
            "value__quantile__q_0_1__national_home_price_index__3M                                                       5.6797      0.154     36.910      0.000       5.378       5.981\n",
            "value__maximum__housing_index__2M                                                                          -2.2804      0.095    -23.979      0.000      -2.467      -2.094\n",
            "value__quantile__q_0_3__housing_index__2M                                                                  -2.8088      0.056    -50.449      0.000      -2.918      -2.700\n",
            "value__absolute_maximum__housing_index__2M                                                                 -2.2804      0.095    -23.979      0.000      -2.467      -2.094\n",
            "value__cwt_coefficients__coeff_5__w_10__widths_2_5_10_20__national_home_price_index__6M                     1.5131      0.071     21.383      0.000       1.374       1.652\n",
            "value__cwt_coefficients__coeff_0__w_20__widths_2_5_10_20__housing_index__2M                                -1.0769      0.011    -93.709      0.000      -1.099      -1.054\n",
            "value__quantile__q_0_9__housing_index__2M                                                                  -2.3559      0.077    -30.634      0.000      -2.507      -2.205\n",
            "value__median__housing_index__2M                                                                           -2.6579      0.032    -84.148      0.000      -2.720      -2.596\n",
            "value__sum_values__housing_index__2M                                                                       -5.9274      0.063    -93.480      0.000      -6.052      -5.803\n",
            "value__fft_coefficient__attr_\"abs\"__coeff_0__housing_index__2M                                             -5.9274      0.063    -93.480      0.000      -6.052      -5.803\n",
            "value__cwt_coefficients__coeff_1__w_10__widths_2_5_10_20__housing_index__2M                                -1.6378      0.021    -79.278      0.000      -1.678      -1.597\n",
            "value__cwt_coefficients__coeff_1__w_5__widths_2_5_10_20__housing_index__2M                                 -2.4687      0.031    -79.278      0.000      -2.530      -2.408\n",
            "value__cwt_coefficients__coeff_4__w_2__widths_2_5_10_20__housing_index__6M                                  0.3645      0.232      1.570      0.116      -0.091       0.820\n",
            "value__cwt_coefficients__coeff_1__w_20__widths_2_5_10_20__housing_index__2M                                -1.1619      0.015    -79.278      0.000      -1.191      -1.133\n",
            "value__fft_coefficient__attr_\"real\"__coeff_0__housing_index__2M                                            -5.9274      0.063    -93.480      0.000      -6.052      -5.803\n",
            "value__cwt_coefficients__coeff_1__w_2__widths_2_5_10_20__housing_index__2M                                 -3.4617      0.044    -79.278      0.000      -3.547      -3.376\n",
            "value__root_mean_square__housing_index__2M                                                                105.5672      0.031   3351.993      0.000     105.505     105.629\n",
            "value__mean__housing_index__2M                                                                             -2.6579      0.032    -84.148      0.000      -2.720      -2.596\n",
            "value__quantile__q_0_6__housing_index__2M                                                                  -2.5824      0.033    -78.338      0.000      -2.647      -2.518\n",
            "value__abs_energy__national_home_price_index__2M                                                           -0.0055      0.005     -1.049      0.294      -0.016       0.005\n",
            "value__quantile__q_0_4__housing_index__2M                                                                  -2.7334      0.041    -66.912      0.000      -2.813      -2.653\n",
            "value__quantile__q_0_8__national_home_price_index__6M                                                       0.0712      0.237      0.300      0.764      -0.394       0.536\n",
            "value__quantile__q_0_7__housing_index__2M                                                                  -2.5069      0.044    -56.978      0.000      -2.593      -2.421\n",
            "value__quantile__q_0_8__housing_index__2M                                                                  -2.4314      0.060    -40.836      0.000      -2.548      -2.315\n",
            "value__root_mean_square__national_home_price_index__6M                                                     22.1717      0.028    797.124      0.000      22.117      22.226\n",
            "value__agg_linear_trend__attr_\"intercept\"__chunk_len_5__f_agg_\"max\"__national_home_price_index__6M         -0.0141      0.470     -0.030      0.976      -0.936       0.908\n",
            "value__sum_values__national_home_price_index__6M                                                           -1.1370      0.118     -9.599      0.000      -1.369      -0.905\n",
            "value__fft_coefficient__attr_\"abs\"__coeff_0__national_home_price_index__6M                                 -1.1370      0.118     -9.599      0.000      -1.369      -0.905\n",
            "value__fft_coefficient__attr_\"real\"__coeff_0__national_home_price_index__6M                                -1.1370      0.118     -9.599      0.000      -1.369      -0.905\n",
            "value__mean__national_home_price_index__6M                                                                  0.0629      0.024      2.602      0.009       0.016       0.110\n",
            "value__cwt_coefficients__coeff_1__w_20__widths_2_5_10_20__national_home_price_index__6M                     1.3693      0.038     35.735      0.000       1.294       1.444\n",
            "value__cwt_coefficients__coeff_5__w_20__widths_2_5_10_20__national_home_price_index__6M                    -1.2435      0.054    -22.917      0.000      -1.350      -1.137\n",
            "value__cwt_coefficients__coeff_3__w_10__widths_2_5_10_20__national_home_price_index__6M                     0.0405      0.049      0.826      0.409      -0.056       0.137\n",
            "value__cwt_coefficients__coeff_2__w_20__widths_2_5_10_20__national_home_price_index__6M                    -1.1061      0.034    -32.273      0.000      -1.173      -1.039\n",
            "value__quantile__q_0_8__housing_index__3M                                                                   1.6338      0.054     30.099      0.000       1.527       1.740\n",
            "value__cwt_coefficients__coeff_4__w_10__widths_2_5_10_20__national_home_price_index__6M                    -1.0516      0.043    -24.635      0.000      -1.135      -0.968\n",
            "value__cwt_coefficients__coeff_1__w_10__widths_2_5_10_20__national_home_price_index__6M                    -1.6567      0.036    -45.652      0.000      -1.728      -1.586\n",
            "value__cwt_coefficients__coeff_3__w_20__widths_2_5_10_20__national_home_price_index__6M                     0.1835      0.071      2.602      0.009       0.045       0.322\n",
            "value__cwt_coefficients__coeff_3__w_5__widths_2_5_10_20__national_home_price_index__6M                      0.2996      0.067      4.462      0.000       0.168       0.431\n",
            "value__cwt_coefficients__coeff_0__w_5__widths_2_5_10_20__housing_index__2M                                 -2.2630      0.024    -93.582      0.000      -2.310      -2.216\n",
            "value__abs_energy__housing_index__6M                                                                        0.0009      0.002      0.479      0.632      -0.003       0.004\n",
            "value__cwt_coefficients__coeff_4__w_20__widths_2_5_10_20__national_home_price_index__6M                     0.4980      0.043     11.455      0.000       0.413       0.583\n",
            "value__cwt_coefficients__coeff_5__w_2__widths_2_5_10_20__national_home_price_index__6M                     -0.5467      0.095     -5.751      0.000      -0.733      -0.360\n",
            "value__cwt_coefficients__coeff_2__w_10__widths_2_5_10_20__national_home_price_index__6M                     0.6715      0.065     10.301      0.000       0.544       0.799\n",
            "value__agg_linear_trend__attr_\"intercept\"__chunk_len_5__f_agg_\"mean\"__national_home_price_index__6M        -0.0036      0.099     -0.036      0.971      -0.197       0.190\n",
            "value__cwt_coefficients__coeff_0__w_20__widths_2_5_10_20__national_home_price_index__6M                    -1.6124      0.040    -40.136      0.000      -1.691      -1.534\n",
            "value__maximum__housing_index__3M                                                                           2.1121      0.094     22.369      0.000       1.927       2.297\n",
            "value__cwt_coefficients__coeff_1__w_5__widths_2_5_10_20__national_home_price_index__6M                     -0.4816      0.081     -5.921      0.000      -0.641      -0.322\n",
            "value__quantile__q_0_9__housing_index__3M                                                                   1.8729      0.062     30.403      0.000       1.752       1.994\n",
            "value__minimum__national_home_price_index__3M                                                               6.4532      0.237     27.209      0.000       5.988       6.918\n",
            "value__cwt_coefficients__coeff_2__w_5__widths_2_5_10_20__national_home_price_index__6M                     -0.2089      0.035     -6.003      0.000      -0.277      -0.141\n",
            "value__quantile__q_0_8__case_shiller_home_price_index__6M                                                  -0.5792      0.226     -2.564      0.010      -1.022      -0.136\n",
            "value__absolute_maximum__housing_index__3M                                                                  2.1121      0.094     22.369      0.000       1.927       2.297\n",
            "value__agg_linear_trend__attr_\"intercept\"__chunk_len_5__f_agg_\"min\"__national_home_price_index__6M          0.0369      0.569      0.065      0.948      -1.078       1.152\n",
            "value__cwt_coefficients__coeff_0__w_10__widths_2_5_10_20__national_home_price_index__6M                     1.2023      0.049     24.317      0.000       1.105       1.299\n",
            "value__absolute_maximum__case_shiller_home_price_index__6M                                                  0.1326      0.099      1.343      0.179      -0.061       0.326\n",
            "value__maximum__case_shiller_home_price_index__6M                                                           0.1326      0.099      1.343      0.179      -0.061       0.326\n",
            "value__median__national_home_price_index__6M                                                                0.0391      0.132      0.296      0.767      -0.220       0.298\n",
            "value__cwt_coefficients__coeff_2__w_2__widths_2_5_10_20__national_home_price_index__6M                     -1.4065      0.243     -5.780      0.000      -1.883      -0.930\n",
            "value__cwt_coefficients__coeff_0__w_5__widths_2_5_10_20__national_home_price_index__6M                      0.8219      0.140      5.878      0.000       0.548       1.096\n",
            "housing_index                                                                                               0.0393      0.145      0.271      0.786      -0.245       0.323\n",
            "value__quantile__q_0_6__national_home_price_index__6M                                                       0.0181      0.249      0.073      0.942      -0.470       0.507\n",
            "value__quantile__q_0_3__national_home_price_index__6M                                                       0.0983      0.127      0.774      0.439      -0.151       0.347\n",
            "value__linear_trend__attr_\"intercept\"__national_home_price_index__3M                                       16.9415      0.298     56.782      0.000      16.357      17.526\n",
            "value__quantile__q_0_7__case_shiller_home_price_index__6M                                                   0.0456      0.091      0.504      0.614      -0.132       0.223\n",
            "value__linear_trend__attr_\"intercept\"__national_home_price_index__6M                                        0.8032      0.245      3.285      0.001       0.324       1.282\n",
            "value__cwt_coefficients__coeff_0__w_2__widths_2_5_10_20__national_home_price_index__3M                     11.4879      0.207     55.549      0.000      11.083      11.893\n",
            "value__agg_linear_trend__attr_\"intercept\"__chunk_len_5__f_agg_\"max\"__case_shiller_home_price_index__6M      0.6947      0.271      2.562      0.010       0.163       1.226\n",
            "value__quantile__q_0_4__national_home_price_index__6M                                                       0.0605      0.239      0.253      0.800      -0.408       0.529\n",
            "value__cwt_coefficients__coeff_3__w_2__widths_2_5_10_20__national_home_price_index__6M                      0.9350      0.376      2.488      0.013       0.198       1.672\n",
            "value__quantile__q_0_7__national_home_price_index__6M                                                       0.0447      0.092      0.484      0.628      -0.136       0.226\n",
            "value__abs_energy__national_home_price_index__6M                                                           -0.0008      0.002     -0.417      0.676      -0.005       0.003\n",
            "value__cwt_coefficients__coeff_4__w_10__widths_2_5_10_20__case_shiller_home_price_index__6M                 0.0290      0.058      0.499      0.617      -0.085       0.143\n",
            "value__cwt_coefficients__coeff_2__w_10__widths_2_5_10_20__case_shiller_home_price_index__6M                -0.0171      0.047     -0.365      0.715      -0.109       0.075\n",
            "value__abs_energy__case_shiller_home_price_index__6M                                                        0.0016      0.001      1.400      0.162      -0.001       0.004\n",
            "value__quantile__q_0_7__housing_starts_single_family__6M                                                    0.0008      0.006      0.151      0.880      -0.010       0.012\n",
            "value__cwt_coefficients__coeff_3__w_20__widths_2_5_10_20__case_shiller_home_price_index__6M                 0.4058      0.060      6.785      0.000       0.289       0.523\n",
            "value__cwt_coefficients__coeff_5__w_10__widths_2_5_10_20__case_shiller_home_price_index__6M                 0.9326      0.076     12.327      0.000       0.784       1.081\n",
            "value__median__housing_starts_single_family__6M                                                             0.0064      0.007      0.888      0.375      -0.008       0.020\n",
            "value__cwt_coefficients__coeff_5__w_20__widths_2_5_10_20__case_shiller_home_price_index__6M                 0.1552      0.064      2.419      0.016       0.029       0.281\n",
            "value__cwt_coefficients__coeff_2__w_20__widths_2_5_10_20__case_shiller_home_price_index__6M                 0.0993      0.024      4.111      0.000       0.052       0.147\n",
            "value__cwt_coefficients__coeff_3__w_10__widths_2_5_10_20__case_shiller_home_price_index__6M                 1.2407      0.060     20.610      0.000       1.123       1.359\n",
            "value__cwt_coefficients__coeff_1__w_20__widths_2_5_10_20__case_shiller_home_price_index__6M                 0.1895      0.021      8.878      0.000       0.148       0.231\n",
            "value__c3__lag_1__national_home_price_index__3M                                                           2.81e-05   2.71e-05      1.037      0.300    -2.5e-05    8.12e-05\n",
            "value__root_mean_square__case_shiller_home_price_index__6M                                                -37.3158      0.023  -1637.576      0.000     -37.360     -37.271\n",
            "value__cwt_coefficients__coeff_4__w_20__widths_2_5_10_20__case_shiller_home_price_index__6M                 1.0162      0.071     14.365      0.000       0.878       1.155\n",
            "value__fft_coefficient__attr_\"abs\"__coeff_0__case_shiller_home_price_index__6M                              1.1439      0.068     16.792      0.000       1.010       1.277\n",
            "value__sum_values__case_shiller_home_price_index__6M                                                        1.1439      0.068     16.792      0.000       1.010       1.277\n",
            "value__fft_coefficient__attr_\"real\"__coeff_0__case_shiller_home_price_index__6M                             1.1439      0.068     16.792      0.000       1.010       1.277\n",
            "value__mean__case_shiller_home_price_index__6M                                                              0.4514      0.019     24.258      0.000       0.415       0.488\n",
            "value__quantile__q_0_6__case_shiller_home_price_index__6M                                                   0.6703      0.251      2.669      0.008       0.178       1.162\n",
            "value__cwt_coefficients__coeff_0__w_20__widths_2_5_10_20__case_shiller_home_price_index__6M                -0.1932      0.055     -3.495      0.000      -0.301      -0.085\n",
            "value__cwt_coefficients__coeff_4__w_5__widths_2_5_10_20__case_shiller_home_price_index__6M                 -0.1424      0.123     -1.155      0.248      -0.384       0.099\n",
            "value__cwt_coefficients__coeff_1__w_10__widths_2_5_10_20__case_shiller_home_price_index__6M                 0.0909      0.033      2.727      0.006       0.026       0.156\n",
            "value__quantile__q_0_8__case_shiller_home_price_index__3M                                                   0.2112      0.121      1.751      0.080      -0.025       0.448\n",
            "value__median__case_shiller_home_price_index__6M                                                           -0.2374      0.516     -0.460      0.646      -1.249       0.774\n",
            "value__cwt_coefficients__coeff_3__w_5__widths_2_5_10_20__case_shiller_home_price_index__6M                  0.9712      0.084     11.555      0.000       0.806       1.136\n",
            "value__cwt_coefficients__coeff_5__w_5__widths_2_5_10_20__case_shiller_home_price_index__6M                  0.0403      0.145      0.278      0.781      -0.244       0.324\n",
            "value__abs_energy__housing_index__3M                                                                        0.0003      0.001      0.191      0.848      -0.002       0.003\n",
            "value__quantile__q_0_9__case_shiller_home_price_index__3M                                                   0.0542      0.052      1.047      0.295      -0.047       0.156\n",
            "value__cwt_coefficients__coeff_2__w_5__widths_2_5_10_20__case_shiller_home_price_index__6M                  0.3448      0.040      8.673      0.000       0.267       0.423\n",
            "value__cwt_coefficients__coeff_0__w_10__widths_2_5_10_20__case_shiller_home_price_index__6M                 0.8948      0.064     14.059      0.000       0.770       1.020\n",
            "value__cwt_coefficients__coeff_2__w_5__widths_2_5_10_20__housing_starts_single_family__6M                  -1.4108      0.049    -28.737      0.000      -1.507      -1.315\n",
            "value__cwt_coefficients__coeff_0__w_10__widths_2_5_10_20__housing_starts_single_family__6M                  1.1933      0.036     33.550      0.000       1.124       1.263\n",
            "value__minimum__house_price_index_yoy__2M                                                                   0.0944      0.434      0.217      0.828      -0.756       0.945\n",
            "value__c3__lag_2__case_shiller_home_price_index__6M                                                     -1.945e-05   1.55e-05     -1.254      0.210   -4.98e-05    1.09e-05\n",
            "value__quantile__q_0_7__case_shiller_home_price_index__3M                                                   0.3682      0.222      1.659      0.097      -0.067       0.803\n",
            "value__cwt_coefficients__coeff_3__w_20__widths_2_5_10_20__housing_starts_single_family__6M                  0.5139      0.093      5.524      0.000       0.332       0.696\n",
            "value__quantile__q_0_6__case_shiller_home_price_index__3M                                                   0.5252      0.327      1.607      0.108      -0.115       1.166\n",
            "value__cwt_coefficients__coeff_1__w_2__widths_2_5_10_20__case_shiller_home_price_index__3M                 -0.8684      0.099     -8.757      0.000      -1.063      -0.674\n",
            "value__quantile__q_0_1__house_price_index_yoy__2M                                                           0.0326      0.125      0.262      0.793      -0.212       0.277\n",
            "value__quantile__q_0_3__house_price_index_yoy__2M                                                          -0.0908      0.547     -0.166      0.868      -1.163       0.981\n",
            "value__cwt_coefficients__coeff_1__w_5__widths_2_5_10_20__case_shiller_home_price_index__6M                  0.9689      0.076     12.719      0.000       0.820       1.118\n",
            "value__cwt_coefficients__coeff_2__w_10__widths_2_5_10_20__case_shiller_home_price_index__3M                -1.0329      0.021    -49.018      0.000      -1.074      -0.992\n",
            "value__root_mean_square__case_shiller_home_price_index__3M                                                 34.5287      0.022   1542.500      0.000      34.485      34.573\n",
            "value__agg_linear_trend__attr_\"intercept\"__chunk_len_5__f_agg_\"mean\"__case_shiller_home_price_index__6M     0.7856      0.088      8.936      0.000       0.613       0.958\n",
            "value__cwt_coefficients__coeff_2__w_20__widths_2_5_10_20__case_shiller_home_price_index__3M                -0.6930      0.010    -67.909      0.000      -0.713      -0.673\n",
            "value__fft_coefficient__attr_\"abs\"__coeff_0__case_shiller_home_price_index__3M                             -2.5598      0.054    -47.551      0.000      -2.665      -2.454\n",
            "value__mean__case_shiller_home_price_index__3M                                                             -0.3223      0.024    -13.556      0.000      -0.369      -0.276\n",
            "value__cwt_coefficients__coeff_1__w_5__widths_2_5_10_20__case_shiller_home_price_index__3M                 -0.9977      0.021    -48.533      0.000      -1.038      -0.957\n",
            "value__sum_values__case_shiller_home_price_index__3M                                                       -2.5598      0.054    -47.551      0.000      -2.665      -2.454\n",
            "value__fft_coefficient__attr_\"real\"__coeff_0__case_shiller_home_price_index__3M                            -2.5598      0.054    -47.551      0.000      -2.665      -2.454\n",
            "value__cwt_coefficients__coeff_0__w_5__widths_2_5_10_20__case_shiller_home_price_index__3M                 -0.6985      0.038    -18.176      0.000      -0.774      -0.623\n",
            "value__root_mean_square__housing_starts_single_family__6M                                                  -0.1097      0.157     -0.699      0.484      -0.417       0.198\n",
            "value__cwt_coefficients__coeff_1__w_20__widths_2_5_10_20__case_shiller_home_price_index__3M                -0.5094      0.011    -46.935      0.000      -0.531      -0.488\n",
            "value__abs_energy__housing_index__2M                                                                        0.0012      0.001      0.986      0.324      -0.001       0.004\n",
            "value__cwt_coefficients__coeff_1__w_10__widths_2_5_10_20__case_shiller_home_price_index__3M                -0.7865      0.023    -33.842      0.000      -0.832      -0.741\n",
            "value__cwt_coefficients__coeff_0__w_10__widths_2_5_10_20__case_shiller_home_price_index__3M                -0.6085      0.014    -42.397      0.000      -0.637      -0.580\n",
            "value__cwt_coefficients__coeff_2__w_5__widths_2_5_10_20__case_shiller_home_price_index__3M                 -1.4042      0.019    -74.776      0.000      -1.441      -1.367\n",
            "value__quantile__q_0_6__housing_starts_single_family__6M                                                   -0.0060      0.004     -1.662      0.096      -0.013       0.001\n",
            "value__cwt_coefficients__coeff_4__w_10__widths_2_5_10_20__housing_starts_single_family__6M                  1.1385      0.057     20.144      0.000       1.028       1.249\n",
            "value__cwt_coefficients__coeff_2__w_20__widths_2_5_10_20__housing_starts_single_family__6M                 -0.1698      0.073     -2.320      0.020      -0.313      -0.026\n",
            "value__cwt_coefficients__coeff_0__w_5__widths_2_5_10_20__case_shiller_home_price_index__6M                  1.3342      0.146      9.113      0.000       1.047       1.621\n",
            "value__cwt_coefficients__coeff_1__w_20__widths_2_5_10_20__housing_starts_single_family__6M                  2.9838      0.074     40.202      0.000       2.838       3.129\n",
            "value__maximum__case_shiller_home_price_index__3M                                                          -0.1028      0.117     -0.881      0.378      -0.332       0.126\n",
            "value__cwt_coefficients__coeff_1__w_5__widths_2_5_10_20__housing_starts_single_family__6M                   0.8711      0.030     28.691      0.000       0.812       0.931\n",
            "value__absolute_maximum__case_shiller_home_price_index__3M                                                 -0.1028      0.117     -0.881      0.378      -0.332       0.126\n",
            "value__cwt_coefficients__coeff_4__w_20__widths_2_5_10_20__housing_starts_single_family__6M                 -0.8465      0.041    -20.548      0.000      -0.927      -0.766\n",
            "value__cwt_coefficients__coeff_2__w_10__widths_2_5_10_20__housing_starts_single_family__6M                 -3.6444      0.065    -55.686      0.000      -3.773      -3.516\n",
            "value__cwt_coefficients__coeff_0__w_2__widths_2_5_10_20__case_shiller_home_price_index__2M                  0.0126      0.154      0.082      0.935      -0.290       0.315\n",
            "value__quantile__q_0_2__house_price_index_yoy__2M                                                          -0.0291      0.229     -0.127      0.899      -0.478       0.420\n",
            "value__fft_coefficient__attr_\"abs\"__coeff_0__housing_starts_single_family__6M                              -0.1083      0.021     -5.143      0.000      -0.150      -0.067\n",
            "value__fft_coefficient__attr_\"real\"__coeff_0__housing_starts_single_family__6M                             -0.1083      0.021     -5.143      0.000      -0.150      -0.067\n",
            "value__max_langevin_fixed_point__m_3__r_30__housing_index__6M                                               0.0036      0.003      1.395      0.163      -0.001       0.009\n",
            "value__mean__housing_starts_single_family__6M                                                               2.8045      0.140     20.062      0.000       2.531       3.079\n",
            "value__c3__lag_1__housing_index__6M                                                                     -7.766e-07   6.42e-06     -0.121      0.904   -1.34e-05    1.18e-05\n",
            "value__c3__lag_2__housing_index__6M                                                                      -8.44e-06   1.03e-05     -0.817      0.414   -2.87e-05    1.18e-05\n",
            "value__sum_values__housing_starts_single_family__6M                                                        -0.1083      0.021     -5.143      0.000      -0.150      -0.067\n",
            "value__c3__lag_1__case_shiller_home_price_index__6M                                                      4.777e-06   9.12e-06      0.524      0.600   -1.31e-05    2.27e-05\n",
            "value__cwt_coefficients__coeff_3__w_2__widths_2_5_10_20__case_shiller_home_price_index__6M                 -0.7655      0.423     -1.810      0.070      -1.594       0.064\n",
            "value__cwt_coefficients__coeff_0__w_20__widths_2_5_10_20__case_shiller_home_price_index__3M                -0.5759      0.024    -23.526      0.000      -0.624      -0.528\n",
            "value__cwt_coefficients__coeff_2__w_2__widths_2_5_10_20__case_shiller_home_price_index__3M                 -1.5362      0.082    -18.830      0.000      -1.696      -1.376\n",
            "value__c3__lag_1__national_home_price_index__6M                                                          6.245e-06   1.96e-05      0.319      0.750   -3.21e-05    4.46e-05\n",
            "value__agg_linear_trend__attr_\"intercept\"__chunk_len_5__f_agg_\"min\"__case_shiller_home_price_index__6M     -0.0706      0.237     -0.298      0.765      -0.534       0.393\n",
            "value__linear_trend__attr_\"intercept\"__case_shiller_home_price_index__2M                                    0.1323      0.353      0.375      0.708      -0.560       0.825\n",
            "value__cwt_coefficients__coeff_0__w_2__widths_2_5_10_20__case_shiller_home_price_index__3M                 -0.0266      0.161     -0.165      0.869      -0.343       0.290\n",
            "value__cwt_coefficients__coeff_2__w_10__widths_2_5_10_20__house_price_index_yoy__3M                        -0.0737      0.100     -0.733      0.464      -0.271       0.123\n",
            "value__quantile__q_0_9__housing_starts_single_family__6M                                                    0.0040      0.010      0.388      0.698      -0.016       0.024\n",
            "value__linear_trend__attr_\"intercept\"__case_shiller_home_price_index__3M                                   -0.5871      0.230     -2.551      0.011      -1.038      -0.136\n",
            "value__sum_values__house_price_index_yoy__3M                                                               -0.6800      0.106     -6.425      0.000      -0.887      -0.473\n",
            "value__cwt_coefficients__coeff_2__w_20__widths_2_5_10_20__house_price_index_yoy__3M                        -0.0507      0.018     -2.814      0.005      -0.086      -0.015\n",
            "value__cwt_coefficients__coeff_1__w_20__widths_2_5_10_20__house_price_index_yoy__3M                         4.4449      0.021    212.802      0.000       4.404       4.486\n",
            "ar.L1                                                                                                       0.2441      0.376      0.649      0.517      -0.493       0.982\n",
            "ma.L1                                                                                                       0.0464      0.392      0.118      0.906      -0.721       0.814\n",
            "ar.S.L12                                                                                                   -0.2943      0.223     -1.318      0.187      -0.732       0.143\n",
            "ma.S.L12                                                                                                   -0.2328      0.257     -0.905      0.365      -0.737       0.271\n",
            "sigma2                                                                                                      0.2466      0.038      6.527      0.000       0.173       0.321\n",
            "===================================================================================\n",
            "Ljung-Box (L1) (Q):                   0.61   Jarque-Bera (JB):                 0.66\n",
            "Prob(Q):                              0.44   Prob(JB):                         0.72\n",
            "Heteroskedasticity (H):               0.62   Skew:                            -0.08\n",
            "Prob(H) (two-sided):                  0.03   Kurtosis:                         3.19\n",
            "===================================================================================\n",
            "\n",
            "Warnings:\n",
            "[1] Covariance matrix calculated using the outer product of gradients (complex-step).\n",
            "[2] Covariance matrix is singular or near-singular, with condition number 2.26e+35. Standard errors may be unstable.\n"
          ]
        }
      ],
      "source": [
        "x_train = X.iloc[:-6]\n",
        "x_test = X.iloc[-6:]\n",
        "\n",
        "exog_train = x_train.drop(columns=[\"inflation_rate\"])\n",
        "target_train = x_train.inflation_rate\n",
        "\n",
        "exog_test = x_test.drop(columns=[\"inflation_rate\"])\n",
        "target_test = x_test.inflation_rate\n",
        "\n",
        "# Определение параметров SARIMAX\n",
        "# Пример: (p,d,q) = (1,1,1), сезонные (P,D,Q,s) = (1,1,1,12) для месячных данных\n",
        "# Вам нужно подобрать эти параметры, здесь просто шаблон\n",
        "order = (1, 1, 1)\n",
        "seasonal_order = (1, 1, 1, 12)\n",
        "\n",
        "# Построение модели\n",
        "model = sm.tsa.SARIMAX(endog=target_train, exog=exog_train, order=order, seasonal_order=seasonal_order,\n",
        "                       enforce_stationarity=False, enforce_invertibility=False)\n",
        "\n",
        "# Обучение модели\n",
        "results = model.fit(disp=False)\n",
        "\n",
        "# Результаты\n",
        "print(results.summary())\n"
      ]
    },
    {
      "cell_type": "code",
      "execution_count": 5,
      "metadata": {
        "colab": {
          "base_uri": "https://localhost:8080/"
        },
        "id": "mcgUVQqgw7Au",
        "outputId": "515a5c95-add8-45d6-e768-7ddd3d541f32"
      },
      "outputs": [
        {
          "output_type": "stream",
          "name": "stdout",
          "text": [
            "2024-11-01    3.313265\n",
            "2024-12-01    5.346664\n",
            "2025-01-01    6.610178\n",
            "2025-02-01    5.076764\n",
            "2025-03-01    4.175210\n",
            "2025-04-01    4.509471\n",
            "Freq: MS, Name: predicted_mean, dtype: float64\n"
          ]
        }
      ],
      "source": [
        "# Прогноз на будущие периоды (6 месяцев вперед)\n",
        "# Для прогноза нужна экзогенная матрица на будущие периоды (exog_forecast)\n",
        "# exog_forecast должен быть DataFrame с 6 строками и теми же столбцами, что exog\n",
        "y = X[\"inflation_rate\"].copy()\n",
        "forecast = results.predict(start=len(X), end=len(X)+5, exog=X.drop(columns=[\"inflation_rate\"]).iloc[-12:])\n",
        "print(forecast)"
      ]
    },
    {
      "cell_type": "markdown",
      "metadata": {
        "id": "2IvxsuMjw7Av"
      },
      "source": [
        "# Подбор гиперпараметров"
      ]
    },
    {
      "cell_type": "code",
      "source": [
        "# Целевая и экзогенные переменные:\n",
        "y = X['inflation_rate']\n",
        "exog = X.drop(columns=['inflation_rate'])\n",
        "\n",
        "# Разбиваем на train и validation по времени\n",
        "validation_period = 6  # месяцев\n",
        "\n",
        "y_train = y.iloc[:-validation_period]\n",
        "exog_train = exog.iloc[:-validation_period]\n",
        "\n",
        "y_val = y.iloc[-validation_period:]\n",
        "exog_val = exog.iloc[-validation_period:]"
      ],
      "metadata": {
        "id": "Sghf5HNSvjIp"
      },
      "execution_count": 9,
      "outputs": []
    },
    {
      "cell_type": "code",
      "execution_count": 8,
      "metadata": {
        "colab": {
          "base_uri": "https://localhost:8080/"
        },
        "id": "PVIwYaEkw7Av",
        "collapsed": true,
        "outputId": "9a936d68-7a80-425e-e811-be6fc7262947"
      },
      "outputs": [
        {
          "metadata": {
            "tags": null
          },
          "name": "stderr",
          "output_type": "stream",
          "text": [
            "/usr/local/lib/python3.11/dist-packages/statsmodels/base/model.py:607: ConvergenceWarning: Maximum Likelihood optimization failed to converge. Check mle_retvals\n",
            "  warnings.warn(\"Maximum Likelihood optimization failed to \"\n"
          ]
        },
        {
          "metadata": {
            "tags": null
          },
          "name": "stdout",
          "output_type": "stream",
          "text": [
            "Tested SARIMAX(1, 1, 1)x(0, 0, 0, 6) - AIC:765.13\n"
          ]
        },
        {
          "metadata": {
            "tags": null
          },
          "name": "stderr",
          "output_type": "stream",
          "text": [
            "/usr/local/lib/python3.11/dist-packages/statsmodels/base/model.py:607: ConvergenceWarning: Maximum Likelihood optimization failed to converge. Check mle_retvals\n",
            "  warnings.warn(\"Maximum Likelihood optimization failed to \"\n"
          ]
        },
        {
          "metadata": {
            "tags": null
          },
          "name": "stdout",
          "output_type": "stream",
          "text": [
            "Tested SARIMAX(1, 1, 1)x(0, 0, 0, 12) - AIC:765.13\n"
          ]
        },
        {
          "metadata": {
            "tags": null
          },
          "name": "stderr",
          "output_type": "stream",
          "text": [
            "/usr/local/lib/python3.11/dist-packages/statsmodels/base/model.py:607: ConvergenceWarning: Maximum Likelihood optimization failed to converge. Check mle_retvals\n",
            "  warnings.warn(\"Maximum Likelihood optimization failed to \"\n"
          ]
        },
        {
          "metadata": {
            "tags": null
          },
          "name": "stdout",
          "output_type": "stream",
          "text": [
            "Tested SARIMAX(1, 1, 1)x(0, 0, 1, 6) - AIC:765.47\n",
            "Tested SARIMAX(1, 1, 1)x(0, 0, 1, 12) - AIC:732.56\n"
          ]
        },
        {
          "metadata": {
            "tags": null
          },
          "name": "stderr",
          "output_type": "stream",
          "text": [
            "/usr/local/lib/python3.11/dist-packages/statsmodels/base/model.py:607: ConvergenceWarning: Maximum Likelihood optimization failed to converge. Check mle_retvals\n",
            "  warnings.warn(\"Maximum Likelihood optimization failed to \"\n"
          ]
        },
        {
          "metadata": {
            "tags": null
          },
          "name": "stdout",
          "output_type": "stream",
          "text": [
            "Tested SARIMAX(1, 1, 1)x(0, 1, 0, 6) - AIC:933.19\n"
          ]
        },
        {
          "metadata": {
            "tags": null
          },
          "name": "stderr",
          "output_type": "stream",
          "text": [
            "/usr/local/lib/python3.11/dist-packages/statsmodels/base/model.py:607: ConvergenceWarning: Maximum Likelihood optimization failed to converge. Check mle_retvals\n",
            "  warnings.warn(\"Maximum Likelihood optimization failed to \"\n"
          ]
        },
        {
          "metadata": {
            "tags": null
          },
          "name": "stdout",
          "output_type": "stream",
          "text": [
            "Tested SARIMAX(1, 1, 1)x(0, 1, 0, 12) - AIC:984.89\n"
          ]
        },
        {
          "metadata": {
            "tags": null
          },
          "name": "stderr",
          "output_type": "stream",
          "text": [
            "/usr/local/lib/python3.11/dist-packages/statsmodels/base/model.py:607: ConvergenceWarning: Maximum Likelihood optimization failed to converge. Check mle_retvals\n",
            "  warnings.warn(\"Maximum Likelihood optimization failed to \"\n"
          ]
        },
        {
          "metadata": {
            "tags": null
          },
          "name": "stdout",
          "output_type": "stream",
          "text": [
            "Tested SARIMAX(1, 1, 1)x(0, 1, 1, 6) - AIC:890.75\n"
          ]
        },
        {
          "metadata": {
            "tags": null
          },
          "name": "stderr",
          "output_type": "stream",
          "text": [
            "/usr/local/lib/python3.11/dist-packages/statsmodels/base/model.py:607: ConvergenceWarning: Maximum Likelihood optimization failed to converge. Check mle_retvals\n",
            "  warnings.warn(\"Maximum Likelihood optimization failed to \"\n"
          ]
        },
        {
          "metadata": {
            "tags": null
          },
          "name": "stdout",
          "output_type": "stream",
          "text": [
            "Tested SARIMAX(1, 1, 1)x(0, 1, 1, 12) - AIC:899.47\n"
          ]
        },
        {
          "metadata": {
            "tags": null
          },
          "name": "stderr",
          "output_type": "stream",
          "text": [
            "/usr/local/lib/python3.11/dist-packages/statsmodels/base/model.py:607: ConvergenceWarning: Maximum Likelihood optimization failed to converge. Check mle_retvals\n",
            "  warnings.warn(\"Maximum Likelihood optimization failed to \"\n"
          ]
        },
        {
          "metadata": {
            "tags": null
          },
          "name": "stdout",
          "output_type": "stream",
          "text": [
            "Tested SARIMAX(1, 1, 1)x(1, 0, 0, 6) - AIC:766.34\n"
          ]
        },
        {
          "metadata": {
            "tags": null
          },
          "name": "stderr",
          "output_type": "stream",
          "text": [
            "/usr/local/lib/python3.11/dist-packages/statsmodels/base/model.py:607: ConvergenceWarning: Maximum Likelihood optimization failed to converge. Check mle_retvals\n",
            "  warnings.warn(\"Maximum Likelihood optimization failed to \"\n"
          ]
        },
        {
          "metadata": {
            "tags": null
          },
          "name": "stdout",
          "output_type": "stream",
          "text": [
            "Tested SARIMAX(1, 1, 1)x(1, 0, 0, 12) - AIC:732.92\n"
          ]
        },
        {
          "metadata": {
            "tags": null
          },
          "name": "stderr",
          "output_type": "stream",
          "text": [
            "/usr/local/lib/python3.11/dist-packages/statsmodels/base/model.py:607: ConvergenceWarning: Maximum Likelihood optimization failed to converge. Check mle_retvals\n",
            "  warnings.warn(\"Maximum Likelihood optimization failed to \"\n"
          ]
        },
        {
          "metadata": {
            "tags": null
          },
          "name": "stdout",
          "output_type": "stream",
          "text": [
            "Tested SARIMAX(1, 1, 1)x(1, 0, 1, 6) - AIC:767.39\n"
          ]
        },
        {
          "metadata": {
            "tags": null
          },
          "name": "stderr",
          "output_type": "stream",
          "text": [
            "/usr/local/lib/python3.11/dist-packages/statsmodels/base/model.py:607: ConvergenceWarning: Maximum Likelihood optimization failed to converge. Check mle_retvals\n",
            "  warnings.warn(\"Maximum Likelihood optimization failed to \"\n"
          ]
        },
        {
          "metadata": {
            "tags": null
          },
          "name": "stdout",
          "output_type": "stream",
          "text": [
            "Tested SARIMAX(1, 1, 1)x(1, 0, 1, 12) - AIC:737.90\n"
          ]
        },
        {
          "metadata": {
            "tags": null
          },
          "name": "stderr",
          "output_type": "stream",
          "text": [
            "/usr/local/lib/python3.11/dist-packages/statsmodels/base/model.py:607: ConvergenceWarning: Maximum Likelihood optimization failed to converge. Check mle_retvals\n",
            "  warnings.warn(\"Maximum Likelihood optimization failed to \"\n"
          ]
        },
        {
          "metadata": {
            "tags": null
          },
          "name": "stdout",
          "output_type": "stream",
          "text": [
            "Tested SARIMAX(1, 1, 1)x(1, 1, 0, 6) - AIC:916.59\n"
          ]
        },
        {
          "metadata": {
            "tags": null
          },
          "name": "stderr",
          "output_type": "stream",
          "text": [
            "/usr/local/lib/python3.11/dist-packages/statsmodels/base/model.py:607: ConvergenceWarning: Maximum Likelihood optimization failed to converge. Check mle_retvals\n",
            "  warnings.warn(\"Maximum Likelihood optimization failed to \"\n"
          ]
        },
        {
          "metadata": {
            "tags": null
          },
          "name": "stdout",
          "output_type": "stream",
          "text": [
            "Tested SARIMAX(1, 1, 1)x(1, 1, 0, 12) - AIC:917.15\n"
          ]
        },
        {
          "metadata": {
            "tags": null
          },
          "name": "stderr",
          "output_type": "stream",
          "text": [
            "/usr/local/lib/python3.11/dist-packages/statsmodels/base/model.py:607: ConvergenceWarning: Maximum Likelihood optimization failed to converge. Check mle_retvals\n",
            "  warnings.warn(\"Maximum Likelihood optimization failed to \"\n"
          ]
        },
        {
          "metadata": {
            "tags": null
          },
          "name": "stdout",
          "output_type": "stream",
          "text": [
            "Tested SARIMAX(1, 1, 1)x(1, 1, 1, 6) - AIC:894.29\n"
          ]
        },
        {
          "metadata": {
            "tags": null
          },
          "name": "stderr",
          "output_type": "stream",
          "text": [
            "/usr/local/lib/python3.11/dist-packages/statsmodels/base/model.py:607: ConvergenceWarning: Maximum Likelihood optimization failed to converge. Check mle_retvals\n",
            "  warnings.warn(\"Maximum Likelihood optimization failed to \"\n"
          ]
        },
        {
          "metadata": {
            "tags": null
          },
          "name": "stdout",
          "output_type": "stream",
          "text": [
            "Tested SARIMAX(1, 1, 1)x(1, 1, 1, 12) - AIC:911.30\n"
          ]
        },
        {
          "metadata": {
            "tags": null
          },
          "name": "stderr",
          "output_type": "stream",
          "text": [
            "/usr/local/lib/python3.11/dist-packages/statsmodels/base/model.py:607: ConvergenceWarning: Maximum Likelihood optimization failed to converge. Check mle_retvals\n",
            "  warnings.warn(\"Maximum Likelihood optimization failed to \"\n"
          ]
        },
        {
          "metadata": {
            "tags": null
          },
          "name": "stdout",
          "output_type": "stream",
          "text": [
            "Tested SARIMAX(1, 1, 2)x(0, 0, 0, 6) - AIC:766.23\n"
          ]
        },
        {
          "metadata": {
            "tags": null
          },
          "name": "stderr",
          "output_type": "stream",
          "text": [
            "/usr/local/lib/python3.11/dist-packages/statsmodels/base/model.py:607: ConvergenceWarning: Maximum Likelihood optimization failed to converge. Check mle_retvals\n",
            "  warnings.warn(\"Maximum Likelihood optimization failed to \"\n"
          ]
        },
        {
          "metadata": {
            "tags": null
          },
          "name": "stdout",
          "output_type": "stream",
          "text": [
            "Tested SARIMAX(1, 1, 2)x(0, 0, 0, 12) - AIC:766.23\n"
          ]
        },
        {
          "metadata": {
            "tags": null
          },
          "name": "stderr",
          "output_type": "stream",
          "text": [
            "/usr/local/lib/python3.11/dist-packages/statsmodels/base/model.py:607: ConvergenceWarning: Maximum Likelihood optimization failed to converge. Check mle_retvals\n",
            "  warnings.warn(\"Maximum Likelihood optimization failed to \"\n"
          ]
        },
        {
          "metadata": {
            "tags": null
          },
          "name": "stdout",
          "output_type": "stream",
          "text": [
            "Tested SARIMAX(1, 1, 2)x(0, 0, 1, 6) - AIC:764.70\n"
          ]
        },
        {
          "metadata": {
            "tags": null
          },
          "name": "stderr",
          "output_type": "stream",
          "text": [
            "/usr/local/lib/python3.11/dist-packages/statsmodels/base/model.py:607: ConvergenceWarning: Maximum Likelihood optimization failed to converge. Check mle_retvals\n",
            "  warnings.warn(\"Maximum Likelihood optimization failed to \"\n"
          ]
        },
        {
          "metadata": {
            "tags": null
          },
          "name": "stdout",
          "output_type": "stream",
          "text": [
            "Tested SARIMAX(1, 1, 2)x(0, 0, 1, 12) - AIC:732.64\n"
          ]
        },
        {
          "metadata": {
            "tags": null
          },
          "name": "stderr",
          "output_type": "stream",
          "text": [
            "/usr/local/lib/python3.11/dist-packages/statsmodels/base/model.py:607: ConvergenceWarning: Maximum Likelihood optimization failed to converge. Check mle_retvals\n",
            "  warnings.warn(\"Maximum Likelihood optimization failed to \"\n"
          ]
        },
        {
          "metadata": {
            "tags": null
          },
          "name": "stdout",
          "output_type": "stream",
          "text": [
            "Tested SARIMAX(1, 1, 2)x(0, 1, 0, 6) - AIC:942.08\n"
          ]
        },
        {
          "metadata": {
            "tags": null
          },
          "name": "stderr",
          "output_type": "stream",
          "text": [
            "/usr/local/lib/python3.11/dist-packages/statsmodels/base/model.py:607: ConvergenceWarning: Maximum Likelihood optimization failed to converge. Check mle_retvals\n",
            "  warnings.warn(\"Maximum Likelihood optimization failed to \"\n"
          ]
        },
        {
          "metadata": {
            "tags": null
          },
          "name": "stdout",
          "output_type": "stream",
          "text": [
            "Tested SARIMAX(1, 1, 2)x(0, 1, 0, 12) - AIC:986.12\n"
          ]
        },
        {
          "metadata": {
            "tags": null
          },
          "name": "stderr",
          "output_type": "stream",
          "text": [
            "/usr/local/lib/python3.11/dist-packages/statsmodels/base/model.py:607: ConvergenceWarning: Maximum Likelihood optimization failed to converge. Check mle_retvals\n",
            "  warnings.warn(\"Maximum Likelihood optimization failed to \"\n"
          ]
        },
        {
          "metadata": {
            "tags": null
          },
          "name": "stdout",
          "output_type": "stream",
          "text": [
            "Tested SARIMAX(1, 1, 2)x(0, 1, 1, 6) - AIC:894.73\n"
          ]
        },
        {
          "metadata": {
            "tags": null
          },
          "name": "stderr",
          "output_type": "stream",
          "text": [
            "/usr/local/lib/python3.11/dist-packages/statsmodels/base/model.py:607: ConvergenceWarning: Maximum Likelihood optimization failed to converge. Check mle_retvals\n",
            "  warnings.warn(\"Maximum Likelihood optimization failed to \"\n"
          ]
        },
        {
          "metadata": {
            "tags": null
          },
          "name": "stdout",
          "output_type": "stream",
          "text": [
            "Tested SARIMAX(1, 1, 2)x(0, 1, 1, 12) - AIC:900.56\n"
          ]
        },
        {
          "metadata": {
            "tags": null
          },
          "name": "stderr",
          "output_type": "stream",
          "text": [
            "/usr/local/lib/python3.11/dist-packages/statsmodels/base/model.py:607: ConvergenceWarning: Maximum Likelihood optimization failed to converge. Check mle_retvals\n",
            "  warnings.warn(\"Maximum Likelihood optimization failed to \"\n"
          ]
        },
        {
          "metadata": {
            "tags": null
          },
          "name": "stdout",
          "output_type": "stream",
          "text": [
            "Tested SARIMAX(1, 1, 2)x(1, 0, 0, 6) - AIC:766.68\n"
          ]
        },
        {
          "metadata": {
            "tags": null
          },
          "name": "stderr",
          "output_type": "stream",
          "text": [
            "/usr/local/lib/python3.11/dist-packages/statsmodels/base/model.py:607: ConvergenceWarning: Maximum Likelihood optimization failed to converge. Check mle_retvals\n",
            "  warnings.warn(\"Maximum Likelihood optimization failed to \"\n"
          ]
        },
        {
          "metadata": {
            "tags": null
          },
          "name": "stdout",
          "output_type": "stream",
          "text": [
            "Tested SARIMAX(1, 1, 2)x(1, 0, 0, 12) - AIC:734.14\n"
          ]
        },
        {
          "metadata": {
            "tags": null
          },
          "name": "stderr",
          "output_type": "stream",
          "text": [
            "/usr/local/lib/python3.11/dist-packages/statsmodels/base/model.py:607: ConvergenceWarning: Maximum Likelihood optimization failed to converge. Check mle_retvals\n",
            "  warnings.warn(\"Maximum Likelihood optimization failed to \"\n"
          ]
        },
        {
          "metadata": {
            "tags": null
          },
          "name": "stdout",
          "output_type": "stream",
          "text": [
            "Tested SARIMAX(1, 1, 2)x(1, 0, 1, 6) - AIC:766.62\n"
          ]
        },
        {
          "metadata": {
            "tags": null
          },
          "name": "stderr",
          "output_type": "stream",
          "text": [
            "/usr/local/lib/python3.11/dist-packages/statsmodels/base/model.py:607: ConvergenceWarning: Maximum Likelihood optimization failed to converge. Check mle_retvals\n",
            "  warnings.warn(\"Maximum Likelihood optimization failed to \"\n"
          ]
        },
        {
          "metadata": {
            "tags": null
          },
          "name": "stdout",
          "output_type": "stream",
          "text": [
            "Tested SARIMAX(1, 1, 2)x(1, 0, 1, 12) - AIC:738.26\n"
          ]
        },
        {
          "metadata": {
            "tags": null
          },
          "name": "stderr",
          "output_type": "stream",
          "text": [
            "/usr/local/lib/python3.11/dist-packages/statsmodels/base/model.py:607: ConvergenceWarning: Maximum Likelihood optimization failed to converge. Check mle_retvals\n",
            "  warnings.warn(\"Maximum Likelihood optimization failed to \"\n"
          ]
        },
        {
          "metadata": {
            "tags": null
          },
          "name": "stdout",
          "output_type": "stream",
          "text": [
            "Tested SARIMAX(1, 1, 2)x(1, 1, 0, 6) - AIC:926.42\n"
          ]
        },
        {
          "metadata": {
            "tags": null
          },
          "name": "stderr",
          "output_type": "stream",
          "text": [
            "/usr/local/lib/python3.11/dist-packages/statsmodels/base/model.py:607: ConvergenceWarning: Maximum Likelihood optimization failed to converge. Check mle_retvals\n",
            "  warnings.warn(\"Maximum Likelihood optimization failed to \"\n"
          ]
        },
        {
          "metadata": {
            "tags": null
          },
          "name": "stdout",
          "output_type": "stream",
          "text": [
            "Tested SARIMAX(1, 1, 2)x(1, 1, 0, 12) - AIC:919.68\n"
          ]
        },
        {
          "metadata": {
            "tags": null
          },
          "name": "stderr",
          "output_type": "stream",
          "text": [
            "/usr/local/lib/python3.11/dist-packages/statsmodels/base/model.py:607: ConvergenceWarning: Maximum Likelihood optimization failed to converge. Check mle_retvals\n",
            "  warnings.warn(\"Maximum Likelihood optimization failed to \"\n"
          ]
        },
        {
          "metadata": {
            "tags": null
          },
          "name": "stdout",
          "output_type": "stream",
          "text": [
            "Tested SARIMAX(1, 1, 2)x(1, 1, 1, 6) - AIC:898.18\n"
          ]
        },
        {
          "metadata": {
            "tags": null
          },
          "name": "stderr",
          "output_type": "stream",
          "text": [
            "/usr/local/lib/python3.11/dist-packages/statsmodels/base/model.py:607: ConvergenceWarning: Maximum Likelihood optimization failed to converge. Check mle_retvals\n",
            "  warnings.warn(\"Maximum Likelihood optimization failed to \"\n"
          ]
        },
        {
          "metadata": {
            "tags": null
          },
          "name": "stdout",
          "output_type": "stream",
          "text": [
            "Tested SARIMAX(1, 1, 2)x(1, 1, 1, 12) - AIC:912.13\n"
          ]
        },
        {
          "metadata": {
            "tags": null
          },
          "name": "stderr",
          "output_type": "stream",
          "text": [
            "/usr/local/lib/python3.11/dist-packages/statsmodels/base/model.py:607: ConvergenceWarning: Maximum Likelihood optimization failed to converge. Check mle_retvals\n",
            "  warnings.warn(\"Maximum Likelihood optimization failed to \"\n"
          ]
        },
        {
          "metadata": {
            "tags": null
          },
          "name": "stdout",
          "output_type": "stream",
          "text": [
            "Tested SARIMAX(1, 2, 1)x(0, 0, 0, 6) - AIC:852.30\n"
          ]
        },
        {
          "metadata": {
            "tags": null
          },
          "name": "stderr",
          "output_type": "stream",
          "text": [
            "/usr/local/lib/python3.11/dist-packages/statsmodels/base/model.py:607: ConvergenceWarning: Maximum Likelihood optimization failed to converge. Check mle_retvals\n",
            "  warnings.warn(\"Maximum Likelihood optimization failed to \"\n"
          ]
        },
        {
          "metadata": {
            "tags": null
          },
          "name": "stdout",
          "output_type": "stream",
          "text": [
            "Tested SARIMAX(1, 2, 1)x(0, 0, 0, 12) - AIC:852.30\n"
          ]
        },
        {
          "metadata": {
            "tags": null
          },
          "name": "stderr",
          "output_type": "stream",
          "text": [
            "/usr/local/lib/python3.11/dist-packages/statsmodels/base/model.py:607: ConvergenceWarning: Maximum Likelihood optimization failed to converge. Check mle_retvals\n",
            "  warnings.warn(\"Maximum Likelihood optimization failed to \"\n"
          ]
        },
        {
          "metadata": {
            "tags": null
          },
          "name": "stdout",
          "output_type": "stream",
          "text": [
            "Tested SARIMAX(1, 2, 1)x(0, 0, 1, 6) - AIC:852.73\n"
          ]
        },
        {
          "metadata": {
            "tags": null
          },
          "name": "stderr",
          "output_type": "stream",
          "text": [
            "/usr/local/lib/python3.11/dist-packages/statsmodels/base/model.py:607: ConvergenceWarning: Maximum Likelihood optimization failed to converge. Check mle_retvals\n",
            "  warnings.warn(\"Maximum Likelihood optimization failed to \"\n"
          ]
        },
        {
          "metadata": {
            "tags": null
          },
          "name": "stdout",
          "output_type": "stream",
          "text": [
            "Tested SARIMAX(1, 2, 1)x(0, 0, 1, 12) - AIC:872.53\n"
          ]
        },
        {
          "metadata": {
            "tags": null
          },
          "name": "stderr",
          "output_type": "stream",
          "text": [
            "/usr/local/lib/python3.11/dist-packages/statsmodels/base/model.py:607: ConvergenceWarning: Maximum Likelihood optimization failed to converge. Check mle_retvals\n",
            "  warnings.warn(\"Maximum Likelihood optimization failed to \"\n"
          ]
        },
        {
          "metadata": {
            "tags": null
          },
          "name": "stdout",
          "output_type": "stream",
          "text": [
            "Tested SARIMAX(1, 2, 1)x(0, 1, 0, 6) - AIC:973.65\n"
          ]
        },
        {
          "metadata": {
            "tags": null
          },
          "name": "stderr",
          "output_type": "stream",
          "text": [
            "/usr/local/lib/python3.11/dist-packages/statsmodels/base/model.py:607: ConvergenceWarning: Maximum Likelihood optimization failed to converge. Check mle_retvals\n",
            "  warnings.warn(\"Maximum Likelihood optimization failed to \"\n"
          ]
        },
        {
          "metadata": {
            "tags": null
          },
          "name": "stdout",
          "output_type": "stream",
          "text": [
            "Tested SARIMAX(1, 2, 1)x(0, 1, 0, 12) - AIC:1024.01\n",
            "Tested SARIMAX(1, 2, 1)x(0, 1, 1, 6) - AIC:934.07\n"
          ]
        },
        {
          "metadata": {
            "tags": null
          },
          "name": "stderr",
          "output_type": "stream",
          "text": [
            "/usr/local/lib/python3.11/dist-packages/statsmodels/base/model.py:607: ConvergenceWarning: Maximum Likelihood optimization failed to converge. Check mle_retvals\n",
            "  warnings.warn(\"Maximum Likelihood optimization failed to \"\n"
          ]
        },
        {
          "metadata": {
            "tags": null
          },
          "name": "stdout",
          "output_type": "stream",
          "text": [
            "Tested SARIMAX(1, 2, 1)x(0, 1, 1, 12) - AIC:929.62\n"
          ]
        },
        {
          "metadata": {
            "tags": null
          },
          "name": "stderr",
          "output_type": "stream",
          "text": [
            "/usr/local/lib/python3.11/dist-packages/statsmodels/base/model.py:607: ConvergenceWarning: Maximum Likelihood optimization failed to converge. Check mle_retvals\n",
            "  warnings.warn(\"Maximum Likelihood optimization failed to \"\n"
          ]
        },
        {
          "metadata": {
            "tags": null
          },
          "name": "stdout",
          "output_type": "stream",
          "text": [
            "Tested SARIMAX(1, 2, 1)x(1, 0, 0, 6) - AIC:856.09\n"
          ]
        },
        {
          "metadata": {
            "tags": null
          },
          "name": "stderr",
          "output_type": "stream",
          "text": [
            "/usr/local/lib/python3.11/dist-packages/statsmodels/base/model.py:607: ConvergenceWarning: Maximum Likelihood optimization failed to converge. Check mle_retvals\n",
            "  warnings.warn(\"Maximum Likelihood optimization failed to \"\n"
          ]
        },
        {
          "metadata": {
            "tags": null
          },
          "name": "stdout",
          "output_type": "stream",
          "text": [
            "Tested SARIMAX(1, 2, 1)x(1, 0, 0, 12) - AIC:860.91\n"
          ]
        },
        {
          "metadata": {
            "tags": null
          },
          "name": "stderr",
          "output_type": "stream",
          "text": [
            "/usr/local/lib/python3.11/dist-packages/statsmodels/base/model.py:607: ConvergenceWarning: Maximum Likelihood optimization failed to converge. Check mle_retvals\n",
            "  warnings.warn(\"Maximum Likelihood optimization failed to \"\n"
          ]
        },
        {
          "metadata": {
            "tags": null
          },
          "name": "stdout",
          "output_type": "stream",
          "text": [
            "Tested SARIMAX(1, 2, 1)x(1, 0, 1, 6) - AIC:855.05\n"
          ]
        },
        {
          "metadata": {
            "tags": null
          },
          "name": "stderr",
          "output_type": "stream",
          "text": [
            "/usr/local/lib/python3.11/dist-packages/statsmodels/base/model.py:607: ConvergenceWarning: Maximum Likelihood optimization failed to converge. Check mle_retvals\n",
            "  warnings.warn(\"Maximum Likelihood optimization failed to \"\n"
          ]
        },
        {
          "metadata": {
            "tags": null
          },
          "name": "stdout",
          "output_type": "stream",
          "text": [
            "Tested SARIMAX(1, 2, 1)x(1, 0, 1, 12) - AIC:866.53\n"
          ]
        },
        {
          "metadata": {
            "tags": null
          },
          "name": "stderr",
          "output_type": "stream",
          "text": [
            "/usr/local/lib/python3.11/dist-packages/statsmodels/base/model.py:607: ConvergenceWarning: Maximum Likelihood optimization failed to converge. Check mle_retvals\n",
            "  warnings.warn(\"Maximum Likelihood optimization failed to \"\n"
          ]
        },
        {
          "metadata": {
            "tags": null
          },
          "name": "stdout",
          "output_type": "stream",
          "text": [
            "Tested SARIMAX(1, 2, 1)x(1, 1, 0, 6) - AIC:958.61\n"
          ]
        },
        {
          "metadata": {
            "tags": null
          },
          "name": "stderr",
          "output_type": "stream",
          "text": [
            "/usr/local/lib/python3.11/dist-packages/statsmodels/base/model.py:607: ConvergenceWarning: Maximum Likelihood optimization failed to converge. Check mle_retvals\n",
            "  warnings.warn(\"Maximum Likelihood optimization failed to \"\n"
          ]
        },
        {
          "metadata": {
            "tags": null
          },
          "name": "stdout",
          "output_type": "stream",
          "text": [
            "Tested SARIMAX(1, 2, 1)x(1, 1, 0, 12) - AIC:958.88\n"
          ]
        },
        {
          "metadata": {
            "tags": null
          },
          "name": "stderr",
          "output_type": "stream",
          "text": [
            "/usr/local/lib/python3.11/dist-packages/statsmodels/base/model.py:607: ConvergenceWarning: Maximum Likelihood optimization failed to converge. Check mle_retvals\n",
            "  warnings.warn(\"Maximum Likelihood optimization failed to \"\n"
          ]
        },
        {
          "metadata": {
            "tags": null
          },
          "name": "stdout",
          "output_type": "stream",
          "text": [
            "Tested SARIMAX(1, 2, 1)x(1, 1, 1, 6) - AIC:926.34\n"
          ]
        },
        {
          "metadata": {
            "tags": null
          },
          "name": "stderr",
          "output_type": "stream",
          "text": [
            "/usr/local/lib/python3.11/dist-packages/statsmodels/base/model.py:607: ConvergenceWarning: Maximum Likelihood optimization failed to converge. Check mle_retvals\n",
            "  warnings.warn(\"Maximum Likelihood optimization failed to \"\n"
          ]
        },
        {
          "metadata": {
            "tags": null
          },
          "name": "stdout",
          "output_type": "stream",
          "text": [
            "Tested SARIMAX(1, 2, 1)x(1, 1, 1, 12) - AIC:941.25\n"
          ]
        },
        {
          "metadata": {
            "tags": null
          },
          "name": "stderr",
          "output_type": "stream",
          "text": [
            "/usr/local/lib/python3.11/dist-packages/statsmodels/base/model.py:607: ConvergenceWarning: Maximum Likelihood optimization failed to converge. Check mle_retvals\n",
            "  warnings.warn(\"Maximum Likelihood optimization failed to \"\n"
          ]
        },
        {
          "metadata": {
            "tags": null
          },
          "name": "stdout",
          "output_type": "stream",
          "text": [
            "Tested SARIMAX(1, 2, 2)x(0, 0, 0, 6) - AIC:809.68\n"
          ]
        },
        {
          "metadata": {
            "tags": null
          },
          "name": "stderr",
          "output_type": "stream",
          "text": [
            "/usr/local/lib/python3.11/dist-packages/statsmodels/base/model.py:607: ConvergenceWarning: Maximum Likelihood optimization failed to converge. Check mle_retvals\n",
            "  warnings.warn(\"Maximum Likelihood optimization failed to \"\n"
          ]
        },
        {
          "metadata": {
            "tags": null
          },
          "name": "stdout",
          "output_type": "stream",
          "text": [
            "Tested SARIMAX(1, 2, 2)x(0, 0, 0, 12) - AIC:809.68\n"
          ]
        },
        {
          "metadata": {
            "tags": null
          },
          "name": "stderr",
          "output_type": "stream",
          "text": [
            "/usr/local/lib/python3.11/dist-packages/statsmodels/base/model.py:607: ConvergenceWarning: Maximum Likelihood optimization failed to converge. Check mle_retvals\n",
            "  warnings.warn(\"Maximum Likelihood optimization failed to \"\n"
          ]
        },
        {
          "metadata": {
            "tags": null
          },
          "name": "stdout",
          "output_type": "stream",
          "text": [
            "Tested SARIMAX(1, 2, 2)x(0, 0, 1, 6) - AIC:808.66\n"
          ]
        },
        {
          "metadata": {
            "tags": null
          },
          "name": "stderr",
          "output_type": "stream",
          "text": [
            "/usr/local/lib/python3.11/dist-packages/statsmodels/base/model.py:607: ConvergenceWarning: Maximum Likelihood optimization failed to converge. Check mle_retvals\n",
            "  warnings.warn(\"Maximum Likelihood optimization failed to \"\n"
          ]
        },
        {
          "metadata": {
            "tags": null
          },
          "name": "stdout",
          "output_type": "stream",
          "text": [
            "Tested SARIMAX(1, 2, 2)x(0, 0, 1, 12) - AIC:767.80\n"
          ]
        },
        {
          "metadata": {
            "tags": null
          },
          "name": "stderr",
          "output_type": "stream",
          "text": [
            "/usr/local/lib/python3.11/dist-packages/statsmodels/base/model.py:607: ConvergenceWarning: Maximum Likelihood optimization failed to converge. Check mle_retvals\n",
            "  warnings.warn(\"Maximum Likelihood optimization failed to \"\n"
          ]
        },
        {
          "metadata": {
            "tags": null
          },
          "name": "stdout",
          "output_type": "stream",
          "text": [
            "Tested SARIMAX(1, 2, 2)x(0, 1, 0, 6) - AIC:974.65\n"
          ]
        },
        {
          "metadata": {
            "tags": null
          },
          "name": "stderr",
          "output_type": "stream",
          "text": [
            "/usr/local/lib/python3.11/dist-packages/statsmodels/base/model.py:607: ConvergenceWarning: Maximum Likelihood optimization failed to converge. Check mle_retvals\n",
            "  warnings.warn(\"Maximum Likelihood optimization failed to \"\n"
          ]
        },
        {
          "metadata": {
            "tags": null
          },
          "name": "stdout",
          "output_type": "stream",
          "text": [
            "Tested SARIMAX(1, 2, 2)x(0, 1, 0, 12) - AIC:1030.33\n"
          ]
        },
        {
          "metadata": {
            "tags": null
          },
          "name": "stderr",
          "output_type": "stream",
          "text": [
            "/usr/local/lib/python3.11/dist-packages/statsmodels/base/model.py:607: ConvergenceWarning: Maximum Likelihood optimization failed to converge. Check mle_retvals\n",
            "  warnings.warn(\"Maximum Likelihood optimization failed to \"\n"
          ]
        },
        {
          "metadata": {
            "tags": null
          },
          "name": "stdout",
          "output_type": "stream",
          "text": [
            "Tested SARIMAX(1, 2, 2)x(0, 1, 1, 6) - AIC:929.99\n"
          ]
        },
        {
          "metadata": {
            "tags": null
          },
          "name": "stderr",
          "output_type": "stream",
          "text": [
            "/usr/local/lib/python3.11/dist-packages/statsmodels/base/model.py:607: ConvergenceWarning: Maximum Likelihood optimization failed to converge. Check mle_retvals\n",
            "  warnings.warn(\"Maximum Likelihood optimization failed to \"\n"
          ]
        },
        {
          "metadata": {
            "tags": null
          },
          "name": "stdout",
          "output_type": "stream",
          "text": [
            "Tested SARIMAX(1, 2, 2)x(0, 1, 1, 12) - AIC:926.37\n"
          ]
        },
        {
          "metadata": {
            "tags": null
          },
          "name": "stderr",
          "output_type": "stream",
          "text": [
            "/usr/local/lib/python3.11/dist-packages/statsmodels/base/model.py:607: ConvergenceWarning: Maximum Likelihood optimization failed to converge. Check mle_retvals\n",
            "  warnings.warn(\"Maximum Likelihood optimization failed to \"\n"
          ]
        },
        {
          "metadata": {
            "tags": null
          },
          "name": "stdout",
          "output_type": "stream",
          "text": [
            "Tested SARIMAX(1, 2, 2)x(1, 0, 0, 6) - AIC:809.53\n"
          ]
        },
        {
          "metadata": {
            "tags": null
          },
          "name": "stderr",
          "output_type": "stream",
          "text": [
            "/usr/local/lib/python3.11/dist-packages/statsmodels/base/model.py:607: ConvergenceWarning: Maximum Likelihood optimization failed to converge. Check mle_retvals\n",
            "  warnings.warn(\"Maximum Likelihood optimization failed to \"\n"
          ]
        },
        {
          "metadata": {
            "tags": null
          },
          "name": "stdout",
          "output_type": "stream",
          "text": [
            "Tested SARIMAX(1, 2, 2)x(1, 0, 0, 12) - AIC:779.05\n"
          ]
        },
        {
          "metadata": {
            "tags": null
          },
          "name": "stderr",
          "output_type": "stream",
          "text": [
            "/usr/local/lib/python3.11/dist-packages/statsmodels/base/model.py:607: ConvergenceWarning: Maximum Likelihood optimization failed to converge. Check mle_retvals\n",
            "  warnings.warn(\"Maximum Likelihood optimization failed to \"\n"
          ]
        },
        {
          "metadata": {
            "tags": null
          },
          "name": "stdout",
          "output_type": "stream",
          "text": [
            "Tested SARIMAX(1, 2, 2)x(1, 0, 1, 6) - AIC:810.66\n"
          ]
        },
        {
          "metadata": {
            "tags": null
          },
          "name": "stderr",
          "output_type": "stream",
          "text": [
            "/usr/local/lib/python3.11/dist-packages/statsmodels/base/model.py:607: ConvergenceWarning: Maximum Likelihood optimization failed to converge. Check mle_retvals\n",
            "  warnings.warn(\"Maximum Likelihood optimization failed to \"\n"
          ]
        },
        {
          "metadata": {
            "tags": null
          },
          "name": "stdout",
          "output_type": "stream",
          "text": [
            "Tested SARIMAX(1, 2, 2)x(1, 0, 1, 12) - AIC:773.70\n"
          ]
        },
        {
          "metadata": {
            "tags": null
          },
          "name": "stderr",
          "output_type": "stream",
          "text": [
            "/usr/local/lib/python3.11/dist-packages/statsmodels/base/model.py:607: ConvergenceWarning: Maximum Likelihood optimization failed to converge. Check mle_retvals\n",
            "  warnings.warn(\"Maximum Likelihood optimization failed to \"\n"
          ]
        },
        {
          "metadata": {
            "tags": null
          },
          "name": "stdout",
          "output_type": "stream",
          "text": [
            "Tested SARIMAX(1, 2, 2)x(1, 1, 0, 6) - AIC:959.55\n"
          ]
        },
        {
          "metadata": {
            "tags": null
          },
          "name": "stderr",
          "output_type": "stream",
          "text": [
            "/usr/local/lib/python3.11/dist-packages/statsmodels/base/model.py:607: ConvergenceWarning: Maximum Likelihood optimization failed to converge. Check mle_retvals\n",
            "  warnings.warn(\"Maximum Likelihood optimization failed to \"\n"
          ]
        },
        {
          "metadata": {
            "tags": null
          },
          "name": "stdout",
          "output_type": "stream",
          "text": [
            "Tested SARIMAX(1, 2, 2)x(1, 1, 0, 12) - AIC:963.18\n"
          ]
        },
        {
          "metadata": {
            "tags": null
          },
          "name": "stderr",
          "output_type": "stream",
          "text": [
            "/usr/local/lib/python3.11/dist-packages/statsmodels/base/model.py:607: ConvergenceWarning: Maximum Likelihood optimization failed to converge. Check mle_retvals\n",
            "  warnings.warn(\"Maximum Likelihood optimization failed to \"\n"
          ]
        },
        {
          "metadata": {
            "tags": null
          },
          "name": "stdout",
          "output_type": "stream",
          "text": [
            "Tested SARIMAX(1, 2, 2)x(1, 1, 1, 6) - AIC:922.92\n",
            "Tested SARIMAX(1, 2, 2)x(1, 1, 1, 12) - AIC:938.53\n"
          ]
        },
        {
          "metadata": {
            "tags": null
          },
          "name": "stderr",
          "output_type": "stream",
          "text": [
            "/usr/local/lib/python3.11/dist-packages/statsmodels/base/model.py:607: ConvergenceWarning: Maximum Likelihood optimization failed to converge. Check mle_retvals\n",
            "  warnings.warn(\"Maximum Likelihood optimization failed to \"\n"
          ]
        },
        {
          "metadata": {
            "tags": null
          },
          "name": "stdout",
          "output_type": "stream",
          "text": [
            "Tested SARIMAX(2, 1, 1)x(0, 0, 0, 6) - AIC:1112.34\n"
          ]
        },
        {
          "output_type": "stream",
          "name": "stderr",
          "text": [
            "/usr/local/lib/python3.11/dist-packages/statsmodels/base/model.py:607: ConvergenceWarning: Maximum Likelihood optimization failed to converge. Check mle_retvals\n",
            "  warnings.warn(\"Maximum Likelihood optimization failed to \"\n"
          ]
        },
        {
          "output_type": "stream",
          "name": "stdout",
          "text": [
            "Tested SARIMAX(2, 1, 1)x(0, 0, 0, 12) - AIC:1112.34\n"
          ]
        },
        {
          "output_type": "stream",
          "name": "stderr",
          "text": [
            "/usr/local/lib/python3.11/dist-packages/statsmodels/base/model.py:607: ConvergenceWarning: Maximum Likelihood optimization failed to converge. Check mle_retvals\n",
            "  warnings.warn(\"Maximum Likelihood optimization failed to \"\n"
          ]
        },
        {
          "output_type": "stream",
          "name": "stdout",
          "text": [
            "Tested SARIMAX(2, 1, 1)x(0, 0, 1, 6) - AIC:1104.81\n"
          ]
        },
        {
          "output_type": "stream",
          "name": "stderr",
          "text": [
            "/usr/local/lib/python3.11/dist-packages/statsmodels/base/model.py:607: ConvergenceWarning: Maximum Likelihood optimization failed to converge. Check mle_retvals\n",
            "  warnings.warn(\"Maximum Likelihood optimization failed to \"\n"
          ]
        },
        {
          "output_type": "stream",
          "name": "stdout",
          "text": [
            "Tested SARIMAX(2, 1, 1)x(0, 0, 1, 12) - AIC:1065.00\n"
          ]
        },
        {
          "output_type": "stream",
          "name": "stderr",
          "text": [
            "/usr/local/lib/python3.11/dist-packages/statsmodels/base/model.py:607: ConvergenceWarning: Maximum Likelihood optimization failed to converge. Check mle_retvals\n",
            "  warnings.warn(\"Maximum Likelihood optimization failed to \"\n"
          ]
        },
        {
          "output_type": "stream",
          "name": "stdout",
          "text": [
            "Tested SARIMAX(2, 1, 1)x(0, 1, 0, 6) - AIC:2013.95\n"
          ]
        },
        {
          "output_type": "stream",
          "name": "stderr",
          "text": [
            "/usr/local/lib/python3.11/dist-packages/statsmodels/base/model.py:607: ConvergenceWarning: Maximum Likelihood optimization failed to converge. Check mle_retvals\n",
            "  warnings.warn(\"Maximum Likelihood optimization failed to \"\n"
          ]
        },
        {
          "output_type": "stream",
          "name": "stdout",
          "text": [
            "Tested SARIMAX(2, 1, 1)x(0, 1, 0, 12) - AIC:1786.46\n"
          ]
        },
        {
          "output_type": "stream",
          "name": "stderr",
          "text": [
            "/usr/local/lib/python3.11/dist-packages/statsmodels/base/model.py:607: ConvergenceWarning: Maximum Likelihood optimization failed to converge. Check mle_retvals\n",
            "  warnings.warn(\"Maximum Likelihood optimization failed to \"\n"
          ]
        },
        {
          "output_type": "stream",
          "name": "stdout",
          "text": [
            "Tested SARIMAX(2, 1, 1)x(0, 1, 1, 6) - AIC:1947.26\n"
          ]
        },
        {
          "output_type": "stream",
          "name": "stderr",
          "text": [
            "/usr/local/lib/python3.11/dist-packages/statsmodels/base/model.py:607: ConvergenceWarning: Maximum Likelihood optimization failed to converge. Check mle_retvals\n",
            "  warnings.warn(\"Maximum Likelihood optimization failed to \"\n"
          ]
        },
        {
          "output_type": "stream",
          "name": "stdout",
          "text": [
            "Tested SARIMAX(2, 1, 1)x(0, 1, 1, 12) - AIC:1661.24\n"
          ]
        },
        {
          "output_type": "stream",
          "name": "stderr",
          "text": [
            "/usr/local/lib/python3.11/dist-packages/statsmodels/base/model.py:607: ConvergenceWarning: Maximum Likelihood optimization failed to converge. Check mle_retvals\n",
            "  warnings.warn(\"Maximum Likelihood optimization failed to \"\n"
          ]
        },
        {
          "output_type": "stream",
          "name": "stdout",
          "text": [
            "Tested SARIMAX(2, 1, 1)x(1, 0, 0, 6) - AIC:1106.84\n"
          ]
        },
        {
          "output_type": "stream",
          "name": "stderr",
          "text": [
            "/usr/local/lib/python3.11/dist-packages/statsmodels/base/model.py:607: ConvergenceWarning: Maximum Likelihood optimization failed to converge. Check mle_retvals\n",
            "  warnings.warn(\"Maximum Likelihood optimization failed to \"\n"
          ]
        },
        {
          "output_type": "stream",
          "name": "stdout",
          "text": [
            "Tested SARIMAX(2, 1, 1)x(1, 0, 0, 12) - AIC:1065.33\n"
          ]
        },
        {
          "output_type": "stream",
          "name": "stderr",
          "text": [
            "/usr/local/lib/python3.11/dist-packages/statsmodels/base/model.py:607: ConvergenceWarning: Maximum Likelihood optimization failed to converge. Check mle_retvals\n",
            "  warnings.warn(\"Maximum Likelihood optimization failed to \"\n"
          ]
        },
        {
          "output_type": "stream",
          "name": "stdout",
          "text": [
            "Tested SARIMAX(2, 1, 1)x(1, 0, 1, 6) - AIC:1108.04\n"
          ]
        },
        {
          "output_type": "stream",
          "name": "stderr",
          "text": [
            "/usr/local/lib/python3.11/dist-packages/statsmodels/base/model.py:607: ConvergenceWarning: Maximum Likelihood optimization failed to converge. Check mle_retvals\n",
            "  warnings.warn(\"Maximum Likelihood optimization failed to \"\n"
          ]
        },
        {
          "output_type": "stream",
          "name": "stdout",
          "text": [
            "Tested SARIMAX(2, 1, 1)x(1, 0, 1, 12) - AIC:1069.98\n"
          ]
        },
        {
          "output_type": "stream",
          "name": "stderr",
          "text": [
            "/usr/local/lib/python3.11/dist-packages/statsmodels/base/model.py:607: ConvergenceWarning: Maximum Likelihood optimization failed to converge. Check mle_retvals\n",
            "  warnings.warn(\"Maximum Likelihood optimization failed to \"\n"
          ]
        },
        {
          "output_type": "stream",
          "name": "stdout",
          "text": [
            "Tested SARIMAX(2, 1, 1)x(1, 1, 0, 6) - AIC:1972.79\n"
          ]
        },
        {
          "output_type": "stream",
          "name": "stderr",
          "text": [
            "/usr/local/lib/python3.11/dist-packages/statsmodels/base/model.py:607: ConvergenceWarning: Maximum Likelihood optimization failed to converge. Check mle_retvals\n",
            "  warnings.warn(\"Maximum Likelihood optimization failed to \"\n"
          ]
        },
        {
          "output_type": "stream",
          "name": "stdout",
          "text": [
            "Tested SARIMAX(2, 1, 1)x(1, 1, 0, 12) - AIC:1679.39\n"
          ]
        },
        {
          "output_type": "stream",
          "name": "stderr",
          "text": [
            "/usr/local/lib/python3.11/dist-packages/statsmodels/base/model.py:607: ConvergenceWarning: Maximum Likelihood optimization failed to converge. Check mle_retvals\n",
            "  warnings.warn(\"Maximum Likelihood optimization failed to \"\n"
          ]
        },
        {
          "output_type": "stream",
          "name": "stdout",
          "text": [
            "Tested SARIMAX(2, 1, 1)x(1, 1, 1, 6) - AIC:1950.69\n"
          ]
        },
        {
          "output_type": "stream",
          "name": "stderr",
          "text": [
            "/usr/local/lib/python3.11/dist-packages/statsmodels/base/model.py:607: ConvergenceWarning: Maximum Likelihood optimization failed to converge. Check mle_retvals\n",
            "  warnings.warn(\"Maximum Likelihood optimization failed to \"\n"
          ]
        },
        {
          "output_type": "stream",
          "name": "stdout",
          "text": [
            "Tested SARIMAX(2, 1, 1)x(1, 1, 1, 12) - AIC:1673.56\n"
          ]
        },
        {
          "output_type": "stream",
          "name": "stderr",
          "text": [
            "/usr/local/lib/python3.11/dist-packages/statsmodels/base/model.py:607: ConvergenceWarning: Maximum Likelihood optimization failed to converge. Check mle_retvals\n",
            "  warnings.warn(\"Maximum Likelihood optimization failed to \"\n"
          ]
        },
        {
          "output_type": "stream",
          "name": "stdout",
          "text": [
            "Tested SARIMAX(2, 1, 2)x(0, 0, 0, 6) - AIC:764.87\n"
          ]
        },
        {
          "output_type": "stream",
          "name": "stderr",
          "text": [
            "/usr/local/lib/python3.11/dist-packages/statsmodels/base/model.py:607: ConvergenceWarning: Maximum Likelihood optimization failed to converge. Check mle_retvals\n",
            "  warnings.warn(\"Maximum Likelihood optimization failed to \"\n"
          ]
        },
        {
          "output_type": "stream",
          "name": "stdout",
          "text": [
            "Tested SARIMAX(2, 1, 2)x(0, 0, 0, 12) - AIC:764.87\n"
          ]
        },
        {
          "output_type": "stream",
          "name": "stderr",
          "text": [
            "/usr/local/lib/python3.11/dist-packages/statsmodels/base/model.py:607: ConvergenceWarning: Maximum Likelihood optimization failed to converge. Check mle_retvals\n",
            "  warnings.warn(\"Maximum Likelihood optimization failed to \"\n"
          ]
        },
        {
          "output_type": "stream",
          "name": "stdout",
          "text": [
            "Tested SARIMAX(2, 1, 2)x(0, 0, 1, 6) - AIC:761.81\n",
            "Tested SARIMAX(2, 1, 2)x(0, 0, 1, 12) - AIC:733.24\n"
          ]
        },
        {
          "output_type": "stream",
          "name": "stderr",
          "text": [
            "/usr/local/lib/python3.11/dist-packages/statsmodels/base/model.py:607: ConvergenceWarning: Maximum Likelihood optimization failed to converge. Check mle_retvals\n",
            "  warnings.warn(\"Maximum Likelihood optimization failed to \"\n"
          ]
        },
        {
          "output_type": "stream",
          "name": "stdout",
          "text": [
            "Tested SARIMAX(2, 1, 2)x(0, 1, 0, 6) - AIC:954.24\n"
          ]
        },
        {
          "output_type": "stream",
          "name": "stderr",
          "text": [
            "/usr/local/lib/python3.11/dist-packages/statsmodels/base/model.py:607: ConvergenceWarning: Maximum Likelihood optimization failed to converge. Check mle_retvals\n",
            "  warnings.warn(\"Maximum Likelihood optimization failed to \"\n"
          ]
        },
        {
          "output_type": "stream",
          "name": "stdout",
          "text": [
            "Tested SARIMAX(2, 1, 2)x(0, 1, 0, 12) - AIC:980.61\n"
          ]
        },
        {
          "output_type": "stream",
          "name": "stderr",
          "text": [
            "/usr/local/lib/python3.11/dist-packages/statsmodels/base/model.py:607: ConvergenceWarning: Maximum Likelihood optimization failed to converge. Check mle_retvals\n",
            "  warnings.warn(\"Maximum Likelihood optimization failed to \"\n"
          ]
        },
        {
          "output_type": "stream",
          "name": "stdout",
          "text": [
            "Tested SARIMAX(2, 1, 2)x(0, 1, 1, 6) - AIC:910.18\n"
          ]
        },
        {
          "output_type": "stream",
          "name": "stderr",
          "text": [
            "/usr/local/lib/python3.11/dist-packages/statsmodels/base/model.py:607: ConvergenceWarning: Maximum Likelihood optimization failed to converge. Check mle_retvals\n",
            "  warnings.warn(\"Maximum Likelihood optimization failed to \"\n"
          ]
        },
        {
          "output_type": "stream",
          "name": "stdout",
          "text": [
            "Tested SARIMAX(2, 1, 2)x(0, 1, 1, 12) - AIC:898.28\n"
          ]
        },
        {
          "output_type": "stream",
          "name": "stderr",
          "text": [
            "/usr/local/lib/python3.11/dist-packages/statsmodels/base/model.py:607: ConvergenceWarning: Maximum Likelihood optimization failed to converge. Check mle_retvals\n",
            "  warnings.warn(\"Maximum Likelihood optimization failed to \"\n"
          ]
        },
        {
          "output_type": "stream",
          "name": "stdout",
          "text": [
            "Tested SARIMAX(2, 1, 2)x(1, 0, 0, 6) - AIC:762.60\n"
          ]
        },
        {
          "output_type": "stream",
          "name": "stderr",
          "text": [
            "/usr/local/lib/python3.11/dist-packages/statsmodels/base/model.py:607: ConvergenceWarning: Maximum Likelihood optimization failed to converge. Check mle_retvals\n",
            "  warnings.warn(\"Maximum Likelihood optimization failed to \"\n"
          ]
        },
        {
          "output_type": "stream",
          "name": "stdout",
          "text": [
            "Tested SARIMAX(2, 1, 2)x(1, 0, 0, 12) - AIC:734.20\n"
          ]
        },
        {
          "output_type": "stream",
          "name": "stderr",
          "text": [
            "/usr/local/lib/python3.11/dist-packages/statsmodels/base/model.py:607: ConvergenceWarning: Maximum Likelihood optimization failed to converge. Check mle_retvals\n",
            "  warnings.warn(\"Maximum Likelihood optimization failed to \"\n"
          ]
        },
        {
          "output_type": "stream",
          "name": "stdout",
          "text": [
            "Tested SARIMAX(2, 1, 2)x(1, 0, 1, 6) - AIC:763.76\n"
          ]
        },
        {
          "output_type": "stream",
          "name": "stderr",
          "text": [
            "/usr/local/lib/python3.11/dist-packages/statsmodels/base/model.py:607: ConvergenceWarning: Maximum Likelihood optimization failed to converge. Check mle_retvals\n",
            "  warnings.warn(\"Maximum Likelihood optimization failed to \"\n"
          ]
        },
        {
          "output_type": "stream",
          "name": "stdout",
          "text": [
            "Tested SARIMAX(2, 1, 2)x(1, 0, 1, 12) - AIC:738.25\n"
          ]
        },
        {
          "output_type": "stream",
          "name": "stderr",
          "text": [
            "/usr/local/lib/python3.11/dist-packages/statsmodels/base/model.py:607: ConvergenceWarning: Maximum Likelihood optimization failed to converge. Check mle_retvals\n",
            "  warnings.warn(\"Maximum Likelihood optimization failed to \"\n"
          ]
        },
        {
          "output_type": "stream",
          "name": "stdout",
          "text": [
            "Tested SARIMAX(2, 1, 2)x(1, 1, 0, 6) - AIC:938.54\n"
          ]
        },
        {
          "output_type": "stream",
          "name": "stderr",
          "text": [
            "/usr/local/lib/python3.11/dist-packages/statsmodels/base/model.py:607: ConvergenceWarning: Maximum Likelihood optimization failed to converge. Check mle_retvals\n",
            "  warnings.warn(\"Maximum Likelihood optimization failed to \"\n"
          ]
        },
        {
          "output_type": "stream",
          "name": "stdout",
          "text": [
            "Tested SARIMAX(2, 1, 2)x(1, 1, 0, 12) - AIC:916.76\n"
          ]
        },
        {
          "output_type": "stream",
          "name": "stderr",
          "text": [
            "/usr/local/lib/python3.11/dist-packages/statsmodels/base/model.py:607: ConvergenceWarning: Maximum Likelihood optimization failed to converge. Check mle_retvals\n",
            "  warnings.warn(\"Maximum Likelihood optimization failed to \"\n"
          ]
        },
        {
          "output_type": "stream",
          "name": "stdout",
          "text": [
            "Tested SARIMAX(2, 1, 2)x(1, 1, 1, 6) - AIC:914.16\n"
          ]
        },
        {
          "output_type": "stream",
          "name": "stderr",
          "text": [
            "/usr/local/lib/python3.11/dist-packages/statsmodels/base/model.py:607: ConvergenceWarning: Maximum Likelihood optimization failed to converge. Check mle_retvals\n",
            "  warnings.warn(\"Maximum Likelihood optimization failed to \"\n"
          ]
        },
        {
          "output_type": "stream",
          "name": "stdout",
          "text": [
            "Tested SARIMAX(2, 1, 2)x(1, 1, 1, 12) - AIC:910.98\n"
          ]
        },
        {
          "output_type": "stream",
          "name": "stderr",
          "text": [
            "/usr/local/lib/python3.11/dist-packages/statsmodels/base/model.py:607: ConvergenceWarning: Maximum Likelihood optimization failed to converge. Check mle_retvals\n",
            "  warnings.warn(\"Maximum Likelihood optimization failed to \"\n"
          ]
        },
        {
          "output_type": "stream",
          "name": "stdout",
          "text": [
            "Tested SARIMAX(2, 2, 1)x(0, 0, 0, 6) - AIC:1006.58\n"
          ]
        },
        {
          "output_type": "stream",
          "name": "stderr",
          "text": [
            "/usr/local/lib/python3.11/dist-packages/statsmodels/base/model.py:607: ConvergenceWarning: Maximum Likelihood optimization failed to converge. Check mle_retvals\n",
            "  warnings.warn(\"Maximum Likelihood optimization failed to \"\n"
          ]
        },
        {
          "output_type": "stream",
          "name": "stdout",
          "text": [
            "Tested SARIMAX(2, 2, 1)x(0, 0, 0, 12) - AIC:1006.58\n"
          ]
        },
        {
          "output_type": "stream",
          "name": "stderr",
          "text": [
            "/usr/local/lib/python3.11/dist-packages/statsmodels/base/model.py:607: ConvergenceWarning: Maximum Likelihood optimization failed to converge. Check mle_retvals\n",
            "  warnings.warn(\"Maximum Likelihood optimization failed to \"\n"
          ]
        },
        {
          "output_type": "stream",
          "name": "stdout",
          "text": [
            "Tested SARIMAX(2, 2, 1)x(0, 0, 1, 6) - AIC:1002.58\n"
          ]
        },
        {
          "output_type": "stream",
          "name": "stderr",
          "text": [
            "/usr/local/lib/python3.11/dist-packages/statsmodels/base/model.py:607: ConvergenceWarning: Maximum Likelihood optimization failed to converge. Check mle_retvals\n",
            "  warnings.warn(\"Maximum Likelihood optimization failed to \"\n"
          ]
        },
        {
          "output_type": "stream",
          "name": "stdout",
          "text": [
            "Tested SARIMAX(2, 2, 1)x(0, 0, 1, 12) - AIC:958.00\n",
            "Tested SARIMAX(2, 2, 1)x(0, 1, 0, 6) - AIC:1110.11\n"
          ]
        },
        {
          "output_type": "stream",
          "name": "stderr",
          "text": [
            "/usr/local/lib/python3.11/dist-packages/statsmodels/base/model.py:607: ConvergenceWarning: Maximum Likelihood optimization failed to converge. Check mle_retvals\n",
            "  warnings.warn(\"Maximum Likelihood optimization failed to \"\n"
          ]
        },
        {
          "output_type": "stream",
          "name": "stdout",
          "text": [
            "Tested SARIMAX(2, 2, 1)x(0, 1, 0, 12) - AIC:1567.33\n",
            "Tested SARIMAX(2, 2, 1)x(0, 1, 1, 6) - AIC:1072.32\n"
          ]
        },
        {
          "output_type": "stream",
          "name": "stderr",
          "text": [
            "/usr/local/lib/python3.11/dist-packages/statsmodels/base/model.py:607: ConvergenceWarning: Maximum Likelihood optimization failed to converge. Check mle_retvals\n",
            "  warnings.warn(\"Maximum Likelihood optimization failed to \"\n"
          ]
        },
        {
          "output_type": "stream",
          "name": "stdout",
          "text": [
            "Tested SARIMAX(2, 2, 1)x(0, 1, 1, 12) - AIC:1442.43\n"
          ]
        },
        {
          "output_type": "stream",
          "name": "stderr",
          "text": [
            "/usr/local/lib/python3.11/dist-packages/statsmodels/base/model.py:607: ConvergenceWarning: Maximum Likelihood optimization failed to converge. Check mle_retvals\n",
            "  warnings.warn(\"Maximum Likelihood optimization failed to \"\n"
          ]
        },
        {
          "output_type": "stream",
          "name": "stdout",
          "text": [
            "Tested SARIMAX(2, 2, 1)x(1, 0, 0, 6) - AIC:1004.12\n"
          ]
        },
        {
          "output_type": "stream",
          "name": "stderr",
          "text": [
            "/usr/local/lib/python3.11/dist-packages/statsmodels/base/model.py:607: ConvergenceWarning: Maximum Likelihood optimization failed to converge. Check mle_retvals\n",
            "  warnings.warn(\"Maximum Likelihood optimization failed to \"\n"
          ]
        },
        {
          "output_type": "stream",
          "name": "stdout",
          "text": [
            "Tested SARIMAX(2, 2, 1)x(1, 0, 0, 12) - AIC:963.16\n"
          ]
        },
        {
          "output_type": "stream",
          "name": "stderr",
          "text": [
            "/usr/local/lib/python3.11/dist-packages/statsmodels/base/model.py:607: ConvergenceWarning: Maximum Likelihood optimization failed to converge. Check mle_retvals\n",
            "  warnings.warn(\"Maximum Likelihood optimization failed to \"\n"
          ]
        },
        {
          "output_type": "stream",
          "name": "stdout",
          "text": [
            "Tested SARIMAX(2, 2, 1)x(1, 0, 1, 6) - AIC:1004.85\n"
          ]
        },
        {
          "output_type": "stream",
          "name": "stderr",
          "text": [
            "/usr/local/lib/python3.11/dist-packages/statsmodels/base/model.py:607: ConvergenceWarning: Maximum Likelihood optimization failed to converge. Check mle_retvals\n",
            "  warnings.warn(\"Maximum Likelihood optimization failed to \"\n"
          ]
        },
        {
          "output_type": "stream",
          "name": "stdout",
          "text": [
            "Tested SARIMAX(2, 2, 1)x(1, 0, 1, 12) - AIC:964.42\n",
            "Tested SARIMAX(2, 2, 1)x(1, 1, 0, 6) - AIC:1095.51\n"
          ]
        },
        {
          "output_type": "stream",
          "name": "stderr",
          "text": [
            "/usr/local/lib/python3.11/dist-packages/statsmodels/base/model.py:607: ConvergenceWarning: Maximum Likelihood optimization failed to converge. Check mle_retvals\n",
            "  warnings.warn(\"Maximum Likelihood optimization failed to \"\n"
          ]
        },
        {
          "output_type": "stream",
          "name": "stdout",
          "text": [
            "Tested SARIMAX(2, 2, 1)x(1, 1, 0, 12) - AIC:1471.47\n"
          ]
        },
        {
          "output_type": "stream",
          "name": "stderr",
          "text": [
            "/usr/local/lib/python3.11/dist-packages/statsmodels/base/model.py:607: ConvergenceWarning: Maximum Likelihood optimization failed to converge. Check mle_retvals\n",
            "  warnings.warn(\"Maximum Likelihood optimization failed to \"\n"
          ]
        },
        {
          "output_type": "stream",
          "name": "stdout",
          "text": [
            "Tested SARIMAX(2, 2, 1)x(1, 1, 1, 6) - AIC:1067.41\n"
          ]
        },
        {
          "output_type": "stream",
          "name": "stderr",
          "text": [
            "/usr/local/lib/python3.11/dist-packages/statsmodels/base/model.py:607: ConvergenceWarning: Maximum Likelihood optimization failed to converge. Check mle_retvals\n",
            "  warnings.warn(\"Maximum Likelihood optimization failed to \"\n"
          ]
        },
        {
          "output_type": "stream",
          "name": "stdout",
          "text": [
            "Tested SARIMAX(2, 2, 1)x(1, 1, 1, 12) - AIC:1454.29\n"
          ]
        },
        {
          "output_type": "stream",
          "name": "stderr",
          "text": [
            "/usr/local/lib/python3.11/dist-packages/statsmodels/base/model.py:607: ConvergenceWarning: Maximum Likelihood optimization failed to converge. Check mle_retvals\n",
            "  warnings.warn(\"Maximum Likelihood optimization failed to \"\n"
          ]
        },
        {
          "output_type": "stream",
          "name": "stdout",
          "text": [
            "Tested SARIMAX(2, 2, 2)x(0, 0, 0, 6) - AIC:819.24\n"
          ]
        },
        {
          "output_type": "stream",
          "name": "stderr",
          "text": [
            "/usr/local/lib/python3.11/dist-packages/statsmodels/base/model.py:607: ConvergenceWarning: Maximum Likelihood optimization failed to converge. Check mle_retvals\n",
            "  warnings.warn(\"Maximum Likelihood optimization failed to \"\n"
          ]
        },
        {
          "output_type": "stream",
          "name": "stdout",
          "text": [
            "Tested SARIMAX(2, 2, 2)x(0, 0, 0, 12) - AIC:819.24\n"
          ]
        },
        {
          "output_type": "stream",
          "name": "stderr",
          "text": [
            "/usr/local/lib/python3.11/dist-packages/statsmodels/base/model.py:607: ConvergenceWarning: Maximum Likelihood optimization failed to converge. Check mle_retvals\n",
            "  warnings.warn(\"Maximum Likelihood optimization failed to \"\n"
          ]
        },
        {
          "output_type": "stream",
          "name": "stdout",
          "text": [
            "Tested SARIMAX(2, 2, 2)x(0, 0, 1, 6) - AIC:817.15\n"
          ]
        },
        {
          "output_type": "stream",
          "name": "stderr",
          "text": [
            "/usr/local/lib/python3.11/dist-packages/statsmodels/base/model.py:607: ConvergenceWarning: Maximum Likelihood optimization failed to converge. Check mle_retvals\n",
            "  warnings.warn(\"Maximum Likelihood optimization failed to \"\n"
          ]
        },
        {
          "output_type": "stream",
          "name": "stdout",
          "text": [
            "Tested SARIMAX(2, 2, 2)x(0, 0, 1, 12) - AIC:791.02\n"
          ]
        },
        {
          "output_type": "stream",
          "name": "stderr",
          "text": [
            "/usr/local/lib/python3.11/dist-packages/statsmodels/base/model.py:607: ConvergenceWarning: Maximum Likelihood optimization failed to converge. Check mle_retvals\n",
            "  warnings.warn(\"Maximum Likelihood optimization failed to \"\n"
          ]
        },
        {
          "output_type": "stream",
          "name": "stdout",
          "text": [
            "Tested SARIMAX(2, 2, 2)x(0, 1, 0, 6) - AIC:1233.42\n"
          ]
        },
        {
          "output_type": "stream",
          "name": "stderr",
          "text": [
            "/usr/local/lib/python3.11/dist-packages/statsmodels/base/model.py:607: ConvergenceWarning: Maximum Likelihood optimization failed to converge. Check mle_retvals\n",
            "  warnings.warn(\"Maximum Likelihood optimization failed to \"\n"
          ]
        },
        {
          "output_type": "stream",
          "name": "stdout",
          "text": [
            "Tested SARIMAX(2, 2, 2)x(0, 1, 0, 12) - AIC:1021.67\n"
          ]
        },
        {
          "output_type": "stream",
          "name": "stderr",
          "text": [
            "/usr/local/lib/python3.11/dist-packages/statsmodels/base/model.py:607: ConvergenceWarning: Maximum Likelihood optimization failed to converge. Check mle_retvals\n",
            "  warnings.warn(\"Maximum Likelihood optimization failed to \"\n"
          ]
        },
        {
          "output_type": "stream",
          "name": "stdout",
          "text": [
            "Tested SARIMAX(2, 2, 2)x(0, 1, 1, 6) - AIC:1186.75\n"
          ]
        },
        {
          "output_type": "stream",
          "name": "stderr",
          "text": [
            "/usr/local/lib/python3.11/dist-packages/statsmodels/base/model.py:607: ConvergenceWarning: Maximum Likelihood optimization failed to converge. Check mle_retvals\n",
            "  warnings.warn(\"Maximum Likelihood optimization failed to \"\n"
          ]
        },
        {
          "output_type": "stream",
          "name": "stdout",
          "text": [
            "Tested SARIMAX(2, 2, 2)x(0, 1, 1, 12) - AIC:923.52\n"
          ]
        },
        {
          "output_type": "stream",
          "name": "stderr",
          "text": [
            "/usr/local/lib/python3.11/dist-packages/statsmodels/base/model.py:607: ConvergenceWarning: Maximum Likelihood optimization failed to converge. Check mle_retvals\n",
            "  warnings.warn(\"Maximum Likelihood optimization failed to \"\n"
          ]
        },
        {
          "output_type": "stream",
          "name": "stdout",
          "text": [
            "Tested SARIMAX(2, 2, 2)x(1, 0, 0, 6) - AIC:819.97\n"
          ]
        },
        {
          "output_type": "stream",
          "name": "stderr",
          "text": [
            "/usr/local/lib/python3.11/dist-packages/statsmodels/base/model.py:607: ConvergenceWarning: Maximum Likelihood optimization failed to converge. Check mle_retvals\n",
            "  warnings.warn(\"Maximum Likelihood optimization failed to \"\n"
          ]
        },
        {
          "output_type": "stream",
          "name": "stdout",
          "text": [
            "Tested SARIMAX(2, 2, 2)x(1, 0, 0, 12) - AIC:796.16\n"
          ]
        },
        {
          "output_type": "stream",
          "name": "stderr",
          "text": [
            "/usr/local/lib/python3.11/dist-packages/statsmodels/base/model.py:607: ConvergenceWarning: Maximum Likelihood optimization failed to converge. Check mle_retvals\n",
            "  warnings.warn(\"Maximum Likelihood optimization failed to \"\n"
          ]
        },
        {
          "output_type": "stream",
          "name": "stdout",
          "text": [
            "Tested SARIMAX(2, 2, 2)x(1, 0, 1, 6) - AIC:819.25\n"
          ]
        },
        {
          "output_type": "stream",
          "name": "stderr",
          "text": [
            "/usr/local/lib/python3.11/dist-packages/statsmodels/base/model.py:607: ConvergenceWarning: Maximum Likelihood optimization failed to converge. Check mle_retvals\n",
            "  warnings.warn(\"Maximum Likelihood optimization failed to \"\n"
          ]
        },
        {
          "output_type": "stream",
          "name": "stdout",
          "text": [
            "Tested SARIMAX(2, 2, 2)x(1, 0, 1, 12) - AIC:792.89\n"
          ]
        },
        {
          "output_type": "stream",
          "name": "stderr",
          "text": [
            "/usr/local/lib/python3.11/dist-packages/statsmodels/base/model.py:607: ConvergenceWarning: Maximum Likelihood optimization failed to converge. Check mle_retvals\n",
            "  warnings.warn(\"Maximum Likelihood optimization failed to \"\n"
          ]
        },
        {
          "output_type": "stream",
          "name": "stdout",
          "text": [
            "Tested SARIMAX(2, 2, 2)x(1, 1, 0, 6) - AIC:1215.07\n"
          ]
        },
        {
          "output_type": "stream",
          "name": "stderr",
          "text": [
            "/usr/local/lib/python3.11/dist-packages/statsmodels/base/model.py:607: ConvergenceWarning: Maximum Likelihood optimization failed to converge. Check mle_retvals\n",
            "  warnings.warn(\"Maximum Likelihood optimization failed to \"\n"
          ]
        },
        {
          "output_type": "stream",
          "name": "stdout",
          "text": [
            "Tested SARIMAX(2, 2, 2)x(1, 1, 0, 12) - AIC:957.80\n"
          ]
        },
        {
          "output_type": "stream",
          "name": "stderr",
          "text": [
            "/usr/local/lib/python3.11/dist-packages/statsmodels/base/model.py:607: ConvergenceWarning: Maximum Likelihood optimization failed to converge. Check mle_retvals\n",
            "  warnings.warn(\"Maximum Likelihood optimization failed to \"\n"
          ]
        },
        {
          "output_type": "stream",
          "name": "stdout",
          "text": [
            "Tested SARIMAX(2, 2, 2)x(1, 1, 1, 6) - AIC:1180.71\n"
          ]
        },
        {
          "output_type": "stream",
          "name": "stderr",
          "text": [
            "/usr/local/lib/python3.11/dist-packages/statsmodels/base/model.py:607: ConvergenceWarning: Maximum Likelihood optimization failed to converge. Check mle_retvals\n",
            "  warnings.warn(\"Maximum Likelihood optimization failed to \"\n"
          ]
        },
        {
          "output_type": "stream",
          "name": "stdout",
          "text": [
            "Tested SARIMAX(2, 2, 2)x(1, 1, 1, 12) - AIC:935.80\n"
          ]
        }
      ],
      "source": [
        "from itertools import product\n",
        "\n",
        "# Сетки для перебора параметров (для упрощения — небольшие диапазоны)\n",
        "p = d = q = [1,2]  # значения 0,1,2 для p,d,q\n",
        "P = D = Q = [0,1]  # 0 или 1 для сезонных параметров\n",
        "s = [6,12]  # сезонность, например, для месячных данных\n",
        "\n",
        "param_grid = list(product(p, d, q))\n",
        "seasonal_param_grid = list(product(P, D, Q, s))\n",
        "\n",
        "best_aic = float('inf')\n",
        "best_order = None\n",
        "best_seasonal_order = None\n",
        "best_model = None\n",
        "\n",
        "for order in param_grid:\n",
        "    for seasonal_order in seasonal_param_grid:\n",
        "        try:\n",
        "            model = sm.tsa.SARIMAX(endog=y_train, exog=exog_train,\n",
        "                                   order=order,\n",
        "                                   seasonal_order=(seasonal_order[0], seasonal_order[1], seasonal_order[2], seasonal_order[3]),\n",
        "                                   enforce_stationarity=False,\n",
        "                                   enforce_invertibility=False)\n",
        "            results = model.fit(disp=False)\n",
        "            if results.aic < best_aic:\n",
        "                best_aic = results.aic\n",
        "                best_order = order\n",
        "                best_seasonal_order = (seasonal_order[0], seasonal_order[1], seasonal_order[2], seasonal_order[3])\n",
        "                best_model = results\n",
        "            print(f\"Tested SARIMAX{order}x{seasonal_order} - AIC:{results.aic:.2f}\")\n",
        "        except Exception as e:\n",
        "            # Иногда модель не сходится — пропускаем такие комбинации\n",
        "            print(f\"Failed SARIMAX{order}x{seasonal_order}: {e}\")\n",
        "            continue"
      ]
    },
    {
      "cell_type": "code",
      "source": [
        "print(f\"\\nЛучшие параметры: order={best_order}, seasonal_order={best_seasonal_order}, AIC={best_aic:.2f}\")"
      ],
      "metadata": {
        "colab": {
          "base_uri": "https://localhost:8080/"
        },
        "id": "MDtRNXfsGgAb",
        "outputId": "15440187-5af5-4ec9-c588-fd724ff6e27f"
      },
      "execution_count": 9,
      "outputs": [
        {
          "output_type": "stream",
          "name": "stdout",
          "text": [
            "\n",
            "Лучшие параметры: order=(1, 1, 1), seasonal_order=(0, 0, 1, 12), AIC=732.56\n"
          ]
        }
      ]
    },
    {
      "cell_type": "code",
      "source": [
        "best_order = (1, 1, 1)\n",
        "best_seasonal_order = (0, 0, 1, 12)"
      ],
      "metadata": {
        "id": "BN21wU7oTE07"
      },
      "execution_count": 10,
      "outputs": []
    },
    {
      "cell_type": "code",
      "execution_count": 38,
      "metadata": {
        "id": "kxq_EowHw7Av",
        "colab": {
          "base_uri": "https://localhost:8080/"
        },
        "outputId": "50e04cf7-e7a2-4be4-9e50-ad9d0419444b"
      },
      "outputs": [
        {
          "output_type": "stream",
          "name": "stdout",
          "text": [
            "MAE на валидационной выборке: 0.50\n",
            "MAPE на валидационной выборке: 0.2\n",
            "2024-11-01    2.2\n",
            "2024-12-01    2.8\n",
            "2025-01-01    3.5\n",
            "2025-02-01    2.9\n",
            "2025-03-01    1.9\n",
            "2025-04-01    1.5\n",
            "Name: predicted_mean, dtype: float64\n"
          ]
        }
      ],
      "source": [
        "# Можно проверить качество на валидации, например, среднюю ошибку (MAE или RMSE)\n",
        "from sklearn.metrics import mean_absolute_error, mean_absolute_percentage_error\n",
        "model = sm.tsa.SARIMAX(endog=y_train, exog=exog_train,\n",
        "                       order=best_order,\n",
        "                       seasonal_order=(best_seasonal_order[0], best_seasonal_order[1], best_seasonal_order[2], best_seasonal_order[3]),\n",
        "                       enforce_stationarity=False,\n",
        "                       enforce_invertibility=False)\n",
        "best_model = model.fit(disp=False)\n",
        "# Прогноз на валидационный период\n",
        "pred = best_model.predict(start=len(y_train), end=len(y_train)+5, exog=exog_val)\n",
        "smoothed_pred = pred.rolling(window=2, min_periods=0).mean()\n",
        "smoothed_pred = smoothed_pred.round(1)\n",
        "\n",
        "mae = mean_absolute_error(y_val, smoothed_pred)\n",
        "mape = mean_absolute_percentage_error(y_val, smoothed_pred)\n",
        "print(f\"MAE на валидационной выборке: {mae:.2f}\")\n",
        "print(f\"MAPE на валидационной выборке: {mape:.1f}\")\n",
        "\n",
        "smoothed_pred.index = smoothed_pred.index + pd.DateOffset(months=6)\n",
        "print(smoothed_pred)"
      ]
    },
    {
      "cell_type": "code",
      "source": [
        "# Анализ значимости экзогенных признаков\n",
        "coefs = best_model.params\n",
        "pvalues = best_model.pvalues\n",
        "std_err = best_model.bse\n",
        "conf_int = best_model.conf_int()\n",
        "\n",
        "exog_coefs = coefs[exog_train.columns]\n",
        "exog_pvalues = pvalues[exog_train.columns]\n",
        "exog_std_err = std_err[exog_train.columns]\n",
        "exog_conf_int = conf_int.loc[exog_train.columns]\n",
        "\n",
        "significance_df = pd.DataFrame({\n",
        "    'coef': exog_coefs,\n",
        "    'std_err': exog_std_err,\n",
        "    'p_value': exog_pvalues,\n",
        "    'conf_lower': exog_conf_int[0],\n",
        "    'conf_upper': exog_conf_int[1]\n",
        "})\n",
        "\n",
        "# Порог значимости\n",
        "p_value_threshold = 0.005\n",
        "coef_abs_threshold = 1  # порог по абсолютному значению коэффициента (подбери под свою задачу)\n",
        "\n",
        "significant_features_strict = significance_df[\n",
        "    (significance_df['p_value'] < p_value_threshold) &\n",
        "    (significance_df['coef'].abs() > coef_abs_threshold)\n",
        "]\n",
        "\n",
        "print(f\"\\nПризнаки с p < {p_value_threshold} и |коэффициент| > {coef_abs_threshold}:\")\n",
        "print(significant_features_strict)\n",
        "\n",
        "# Визуализация\n",
        "# import matplotlib.pyplot as plt\n",
        "\n",
        "# plt.figure(figsize=(10,6))\n",
        "# colors = ['green' if coef > 0 else 'red' for coef in significant_features_strict['coef']]\n",
        "\n",
        "# plt.bar(significant_features_strict.index, significant_features_strict['coef'], color=colors)\n",
        "# plt.xticks(rotation=45, ha='right')\n",
        "# plt.ylabel('Коэффициент')\n",
        "# plt.title(f'Строгий отбор признаков (p < {p_value_threshold}, |coef| > {coef_abs_threshold})')\n",
        "# plt.grid(axis='y')\n",
        "# plt.tight_layout()\n",
        "# plt.show()\n",
        "\n"
      ],
      "metadata": {
        "colab": {
          "base_uri": "https://localhost:8080/"
        },
        "id": "wMnNkNilq6zh",
        "outputId": "4fcd63df-a0ea-45ea-d304-aa87d6cc7e91"
      },
      "execution_count": 39,
      "outputs": [
        {
          "output_type": "stream",
          "name": "stdout",
          "text": [
            "\n",
            "Признаки с p < 0.005 и |коэффициент| > 1:\n",
            "                                                         coef   std_err  \\\n",
            "value__root_mean_square__housing_index__6M          21.152364  0.015305   \n",
            "value__maximum__national_home_price_index__3M        2.467240  0.102970   \n",
            "value__absolute_maximum__national_home_price_in...   2.467239  0.103002   \n",
            "value__quantile__q_0_8__national_home_price_ind...   2.018444  0.060621   \n",
            "value__cwt_coefficients__coeff_2__w_2__widths_2...  -1.063213  0.032860   \n",
            "...                                                       ...       ...   \n",
            "value__cwt_coefficients__coeff_1__w_20__widths_...   1.480968  0.003755   \n",
            "value__cwt_coefficients__coeff_2__w_10__widths_...  -1.697031  0.002748   \n",
            "value__cwt_coefficients__coeff_2__w_2__widths_2...  -1.101975  0.041677   \n",
            "value__sum_values__house_price_index_yoy__3M        -3.148531  0.082813   \n",
            "value__cwt_coefficients__coeff_1__w_20__widths_...  19.772965  0.016210   \n",
            "\n",
            "                                                          p_value  conf_lower  \\\n",
            "value__root_mean_square__housing_index__6M           0.000000e+00   21.122367   \n",
            "value__maximum__national_home_price_index__3M       7.143192e-127    2.265422   \n",
            "value__absolute_maximum__national_home_price_in...  8.547257e-127    2.265358   \n",
            "value__quantile__q_0_8__national_home_price_ind...  4.392185e-243    1.899629   \n",
            "value__cwt_coefficients__coeff_2__w_2__widths_2...  1.150673e-229   -1.127617   \n",
            "...                                                           ...         ...   \n",
            "value__cwt_coefficients__coeff_1__w_20__widths_...   0.000000e+00    1.473608   \n",
            "value__cwt_coefficients__coeff_2__w_10__widths_...   0.000000e+00   -1.702417   \n",
            "value__cwt_coefficients__coeff_2__w_2__widths_2...  4.658624e-154   -1.183661   \n",
            "value__sum_values__house_price_index_yoy__3M         0.000000e+00   -3.310842   \n",
            "value__cwt_coefficients__coeff_1__w_20__widths_...   0.000000e+00   19.741194   \n",
            "\n",
            "                                                    conf_upper  \n",
            "value__root_mean_square__housing_index__6M           21.182360  \n",
            "value__maximum__national_home_price_index__3M         2.669058  \n",
            "value__absolute_maximum__national_home_price_in...    2.669120  \n",
            "value__quantile__q_0_8__national_home_price_ind...    2.137259  \n",
            "value__cwt_coefficients__coeff_2__w_2__widths_2...   -0.998808  \n",
            "...                                                        ...  \n",
            "value__cwt_coefficients__coeff_1__w_20__widths_...    1.488329  \n",
            "value__cwt_coefficients__coeff_2__w_10__widths_...   -1.691646  \n",
            "value__cwt_coefficients__coeff_2__w_2__widths_2...   -1.020290  \n",
            "value__sum_values__house_price_index_yoy__3M         -2.986220  \n",
            "value__cwt_coefficients__coeff_1__w_20__widths_...   19.804736  \n",
            "\n",
            "[101 rows x 5 columns]\n"
          ]
        }
      ]
    },
    {
      "cell_type": "markdown",
      "source": [
        "**Фильтрация значимых признаков оставляет слишком много значимых признаков, поэтому оставляю все признаки**"
      ],
      "metadata": {
        "id": "O2DTGlwar-QE"
      }
    },
    {
      "cell_type": "code",
      "source": [
        "dataset_for_vizual = pd.concat([y_train, y_val])\n",
        "dataset_for_vizual.index = dataset_for_vizual.index + pd.DateOffset(months=6)\n",
        "smoothed_pred.index.name = \"time\"\n",
        "\n",
        "dataset_for_vizual = pd.DataFrame(dataset_for_vizual)\n",
        "smoothed_pred = pd.DataFrame(smoothed_pred)\n",
        "dataset_for_vizual = dataset_for_vizual.join(smoothed_pred, how=\"left\")"
      ],
      "metadata": {
        "id": "So-prbYioxgk"
      },
      "execution_count": 41,
      "outputs": []
    },
    {
      "cell_type": "code",
      "source": [
        "dataset_for_vizual"
      ],
      "metadata": {
        "colab": {
          "base_uri": "https://localhost:8080/",
          "height": 450
        },
        "id": "ypQMhJaLroIr",
        "outputId": "b3aa39e2-8aed-488d-b270-9648ed45b9dc"
      },
      "execution_count": 42,
      "outputs": [
        {
          "output_type": "execute_result",
          "data": {
            "text/plain": [
              "            inflation_rate  predicted_mean\n",
              "time                                      \n",
              "2001-07-01             3.2             NaN\n",
              "2001-08-01             2.7             NaN\n",
              "2001-09-01             2.7             NaN\n",
              "2001-10-01             2.6             NaN\n",
              "2001-11-01             2.1             NaN\n",
              "...                    ...             ...\n",
              "2024-12-01             2.7             2.8\n",
              "2025-01-01             2.9             3.5\n",
              "2025-02-01             3.0             2.9\n",
              "2025-03-01             2.8             1.9\n",
              "2025-04-01             2.4             1.5\n",
              "\n",
              "[286 rows x 2 columns]"
            ],
            "text/html": [
              "\n",
              "  <div id=\"df-41e9bda0-81f4-4076-808c-46816e28b5c6\" class=\"colab-df-container\">\n",
              "    <div>\n",
              "<style scoped>\n",
              "    .dataframe tbody tr th:only-of-type {\n",
              "        vertical-align: middle;\n",
              "    }\n",
              "\n",
              "    .dataframe tbody tr th {\n",
              "        vertical-align: top;\n",
              "    }\n",
              "\n",
              "    .dataframe thead th {\n",
              "        text-align: right;\n",
              "    }\n",
              "</style>\n",
              "<table border=\"1\" class=\"dataframe\">\n",
              "  <thead>\n",
              "    <tr style=\"text-align: right;\">\n",
              "      <th></th>\n",
              "      <th>inflation_rate</th>\n",
              "      <th>predicted_mean</th>\n",
              "    </tr>\n",
              "    <tr>\n",
              "      <th>time</th>\n",
              "      <th></th>\n",
              "      <th></th>\n",
              "    </tr>\n",
              "  </thead>\n",
              "  <tbody>\n",
              "    <tr>\n",
              "      <th>2001-07-01</th>\n",
              "      <td>3.2</td>\n",
              "      <td>NaN</td>\n",
              "    </tr>\n",
              "    <tr>\n",
              "      <th>2001-08-01</th>\n",
              "      <td>2.7</td>\n",
              "      <td>NaN</td>\n",
              "    </tr>\n",
              "    <tr>\n",
              "      <th>2001-09-01</th>\n",
              "      <td>2.7</td>\n",
              "      <td>NaN</td>\n",
              "    </tr>\n",
              "    <tr>\n",
              "      <th>2001-10-01</th>\n",
              "      <td>2.6</td>\n",
              "      <td>NaN</td>\n",
              "    </tr>\n",
              "    <tr>\n",
              "      <th>2001-11-01</th>\n",
              "      <td>2.1</td>\n",
              "      <td>NaN</td>\n",
              "    </tr>\n",
              "    <tr>\n",
              "      <th>...</th>\n",
              "      <td>...</td>\n",
              "      <td>...</td>\n",
              "    </tr>\n",
              "    <tr>\n",
              "      <th>2024-12-01</th>\n",
              "      <td>2.7</td>\n",
              "      <td>2.8</td>\n",
              "    </tr>\n",
              "    <tr>\n",
              "      <th>2025-01-01</th>\n",
              "      <td>2.9</td>\n",
              "      <td>3.5</td>\n",
              "    </tr>\n",
              "    <tr>\n",
              "      <th>2025-02-01</th>\n",
              "      <td>3.0</td>\n",
              "      <td>2.9</td>\n",
              "    </tr>\n",
              "    <tr>\n",
              "      <th>2025-03-01</th>\n",
              "      <td>2.8</td>\n",
              "      <td>1.9</td>\n",
              "    </tr>\n",
              "    <tr>\n",
              "      <th>2025-04-01</th>\n",
              "      <td>2.4</td>\n",
              "      <td>1.5</td>\n",
              "    </tr>\n",
              "  </tbody>\n",
              "</table>\n",
              "<p>286 rows × 2 columns</p>\n",
              "</div>\n",
              "    <div class=\"colab-df-buttons\">\n",
              "\n",
              "  <div class=\"colab-df-container\">\n",
              "    <button class=\"colab-df-convert\" onclick=\"convertToInteractive('df-41e9bda0-81f4-4076-808c-46816e28b5c6')\"\n",
              "            title=\"Convert this dataframe to an interactive table.\"\n",
              "            style=\"display:none;\">\n",
              "\n",
              "  <svg xmlns=\"http://www.w3.org/2000/svg\" height=\"24px\" viewBox=\"0 -960 960 960\">\n",
              "    <path d=\"M120-120v-720h720v720H120Zm60-500h600v-160H180v160Zm220 220h160v-160H400v160Zm0 220h160v-160H400v160ZM180-400h160v-160H180v160Zm440 0h160v-160H620v160ZM180-180h160v-160H180v160Zm440 0h160v-160H620v160Z\"/>\n",
              "  </svg>\n",
              "    </button>\n",
              "\n",
              "  <style>\n",
              "    .colab-df-container {\n",
              "      display:flex;\n",
              "      gap: 12px;\n",
              "    }\n",
              "\n",
              "    .colab-df-convert {\n",
              "      background-color: #E8F0FE;\n",
              "      border: none;\n",
              "      border-radius: 50%;\n",
              "      cursor: pointer;\n",
              "      display: none;\n",
              "      fill: #1967D2;\n",
              "      height: 32px;\n",
              "      padding: 0 0 0 0;\n",
              "      width: 32px;\n",
              "    }\n",
              "\n",
              "    .colab-df-convert:hover {\n",
              "      background-color: #E2EBFA;\n",
              "      box-shadow: 0px 1px 2px rgba(60, 64, 67, 0.3), 0px 1px 3px 1px rgba(60, 64, 67, 0.15);\n",
              "      fill: #174EA6;\n",
              "    }\n",
              "\n",
              "    .colab-df-buttons div {\n",
              "      margin-bottom: 4px;\n",
              "    }\n",
              "\n",
              "    [theme=dark] .colab-df-convert {\n",
              "      background-color: #3B4455;\n",
              "      fill: #D2E3FC;\n",
              "    }\n",
              "\n",
              "    [theme=dark] .colab-df-convert:hover {\n",
              "      background-color: #434B5C;\n",
              "      box-shadow: 0px 1px 3px 1px rgba(0, 0, 0, 0.15);\n",
              "      filter: drop-shadow(0px 1px 2px rgba(0, 0, 0, 0.3));\n",
              "      fill: #FFFFFF;\n",
              "    }\n",
              "  </style>\n",
              "\n",
              "    <script>\n",
              "      const buttonEl =\n",
              "        document.querySelector('#df-41e9bda0-81f4-4076-808c-46816e28b5c6 button.colab-df-convert');\n",
              "      buttonEl.style.display =\n",
              "        google.colab.kernel.accessAllowed ? 'block' : 'none';\n",
              "\n",
              "      async function convertToInteractive(key) {\n",
              "        const element = document.querySelector('#df-41e9bda0-81f4-4076-808c-46816e28b5c6');\n",
              "        const dataTable =\n",
              "          await google.colab.kernel.invokeFunction('convertToInteractive',\n",
              "                                                    [key], {});\n",
              "        if (!dataTable) return;\n",
              "\n",
              "        const docLinkHtml = 'Like what you see? Visit the ' +\n",
              "          '<a target=\"_blank\" href=https://colab.research.google.com/notebooks/data_table.ipynb>data table notebook</a>'\n",
              "          + ' to learn more about interactive tables.';\n",
              "        element.innerHTML = '';\n",
              "        dataTable['output_type'] = 'display_data';\n",
              "        await google.colab.output.renderOutput(dataTable, element);\n",
              "        const docLink = document.createElement('div');\n",
              "        docLink.innerHTML = docLinkHtml;\n",
              "        element.appendChild(docLink);\n",
              "      }\n",
              "    </script>\n",
              "  </div>\n",
              "\n",
              "\n",
              "    <div id=\"df-08eac9dc-c591-47d2-82ba-ad580902824f\">\n",
              "      <button class=\"colab-df-quickchart\" onclick=\"quickchart('df-08eac9dc-c591-47d2-82ba-ad580902824f')\"\n",
              "                title=\"Suggest charts\"\n",
              "                style=\"display:none;\">\n",
              "\n",
              "<svg xmlns=\"http://www.w3.org/2000/svg\" height=\"24px\"viewBox=\"0 0 24 24\"\n",
              "     width=\"24px\">\n",
              "    <g>\n",
              "        <path d=\"M19 3H5c-1.1 0-2 .9-2 2v14c0 1.1.9 2 2 2h14c1.1 0 2-.9 2-2V5c0-1.1-.9-2-2-2zM9 17H7v-7h2v7zm4 0h-2V7h2v10zm4 0h-2v-4h2v4z\"/>\n",
              "    </g>\n",
              "</svg>\n",
              "      </button>\n",
              "\n",
              "<style>\n",
              "  .colab-df-quickchart {\n",
              "      --bg-color: #E8F0FE;\n",
              "      --fill-color: #1967D2;\n",
              "      --hover-bg-color: #E2EBFA;\n",
              "      --hover-fill-color: #174EA6;\n",
              "      --disabled-fill-color: #AAA;\n",
              "      --disabled-bg-color: #DDD;\n",
              "  }\n",
              "\n",
              "  [theme=dark] .colab-df-quickchart {\n",
              "      --bg-color: #3B4455;\n",
              "      --fill-color: #D2E3FC;\n",
              "      --hover-bg-color: #434B5C;\n",
              "      --hover-fill-color: #FFFFFF;\n",
              "      --disabled-bg-color: #3B4455;\n",
              "      --disabled-fill-color: #666;\n",
              "  }\n",
              "\n",
              "  .colab-df-quickchart {\n",
              "    background-color: var(--bg-color);\n",
              "    border: none;\n",
              "    border-radius: 50%;\n",
              "    cursor: pointer;\n",
              "    display: none;\n",
              "    fill: var(--fill-color);\n",
              "    height: 32px;\n",
              "    padding: 0;\n",
              "    width: 32px;\n",
              "  }\n",
              "\n",
              "  .colab-df-quickchart:hover {\n",
              "    background-color: var(--hover-bg-color);\n",
              "    box-shadow: 0 1px 2px rgba(60, 64, 67, 0.3), 0 1px 3px 1px rgba(60, 64, 67, 0.15);\n",
              "    fill: var(--button-hover-fill-color);\n",
              "  }\n",
              "\n",
              "  .colab-df-quickchart-complete:disabled,\n",
              "  .colab-df-quickchart-complete:disabled:hover {\n",
              "    background-color: var(--disabled-bg-color);\n",
              "    fill: var(--disabled-fill-color);\n",
              "    box-shadow: none;\n",
              "  }\n",
              "\n",
              "  .colab-df-spinner {\n",
              "    border: 2px solid var(--fill-color);\n",
              "    border-color: transparent;\n",
              "    border-bottom-color: var(--fill-color);\n",
              "    animation:\n",
              "      spin 1s steps(1) infinite;\n",
              "  }\n",
              "\n",
              "  @keyframes spin {\n",
              "    0% {\n",
              "      border-color: transparent;\n",
              "      border-bottom-color: var(--fill-color);\n",
              "      border-left-color: var(--fill-color);\n",
              "    }\n",
              "    20% {\n",
              "      border-color: transparent;\n",
              "      border-left-color: var(--fill-color);\n",
              "      border-top-color: var(--fill-color);\n",
              "    }\n",
              "    30% {\n",
              "      border-color: transparent;\n",
              "      border-left-color: var(--fill-color);\n",
              "      border-top-color: var(--fill-color);\n",
              "      border-right-color: var(--fill-color);\n",
              "    }\n",
              "    40% {\n",
              "      border-color: transparent;\n",
              "      border-right-color: var(--fill-color);\n",
              "      border-top-color: var(--fill-color);\n",
              "    }\n",
              "    60% {\n",
              "      border-color: transparent;\n",
              "      border-right-color: var(--fill-color);\n",
              "    }\n",
              "    80% {\n",
              "      border-color: transparent;\n",
              "      border-right-color: var(--fill-color);\n",
              "      border-bottom-color: var(--fill-color);\n",
              "    }\n",
              "    90% {\n",
              "      border-color: transparent;\n",
              "      border-bottom-color: var(--fill-color);\n",
              "    }\n",
              "  }\n",
              "</style>\n",
              "\n",
              "      <script>\n",
              "        async function quickchart(key) {\n",
              "          const quickchartButtonEl =\n",
              "            document.querySelector('#' + key + ' button');\n",
              "          quickchartButtonEl.disabled = true;  // To prevent multiple clicks.\n",
              "          quickchartButtonEl.classList.add('colab-df-spinner');\n",
              "          try {\n",
              "            const charts = await google.colab.kernel.invokeFunction(\n",
              "                'suggestCharts', [key], {});\n",
              "          } catch (error) {\n",
              "            console.error('Error during call to suggestCharts:', error);\n",
              "          }\n",
              "          quickchartButtonEl.classList.remove('colab-df-spinner');\n",
              "          quickchartButtonEl.classList.add('colab-df-quickchart-complete');\n",
              "        }\n",
              "        (() => {\n",
              "          let quickchartButtonEl =\n",
              "            document.querySelector('#df-08eac9dc-c591-47d2-82ba-ad580902824f button');\n",
              "          quickchartButtonEl.style.display =\n",
              "            google.colab.kernel.accessAllowed ? 'block' : 'none';\n",
              "        })();\n",
              "      </script>\n",
              "    </div>\n",
              "\n",
              "  <div id=\"id_4ed03f06-6448-4570-8e8c-2e34895735f8\">\n",
              "    <style>\n",
              "      .colab-df-generate {\n",
              "        background-color: #E8F0FE;\n",
              "        border: none;\n",
              "        border-radius: 50%;\n",
              "        cursor: pointer;\n",
              "        display: none;\n",
              "        fill: #1967D2;\n",
              "        height: 32px;\n",
              "        padding: 0 0 0 0;\n",
              "        width: 32px;\n",
              "      }\n",
              "\n",
              "      .colab-df-generate:hover {\n",
              "        background-color: #E2EBFA;\n",
              "        box-shadow: 0px 1px 2px rgba(60, 64, 67, 0.3), 0px 1px 3px 1px rgba(60, 64, 67, 0.15);\n",
              "        fill: #174EA6;\n",
              "      }\n",
              "\n",
              "      [theme=dark] .colab-df-generate {\n",
              "        background-color: #3B4455;\n",
              "        fill: #D2E3FC;\n",
              "      }\n",
              "\n",
              "      [theme=dark] .colab-df-generate:hover {\n",
              "        background-color: #434B5C;\n",
              "        box-shadow: 0px 1px 3px 1px rgba(0, 0, 0, 0.15);\n",
              "        filter: drop-shadow(0px 1px 2px rgba(0, 0, 0, 0.3));\n",
              "        fill: #FFFFFF;\n",
              "      }\n",
              "    </style>\n",
              "    <button class=\"colab-df-generate\" onclick=\"generateWithVariable('dataset_for_vizual')\"\n",
              "            title=\"Generate code using this dataframe.\"\n",
              "            style=\"display:none;\">\n",
              "\n",
              "  <svg xmlns=\"http://www.w3.org/2000/svg\" height=\"24px\"viewBox=\"0 0 24 24\"\n",
              "       width=\"24px\">\n",
              "    <path d=\"M7,19H8.4L18.45,9,17,7.55,7,17.6ZM5,21V16.75L18.45,3.32a2,2,0,0,1,2.83,0l1.4,1.43a1.91,1.91,0,0,1,.58,1.4,1.91,1.91,0,0,1-.58,1.4L9.25,21ZM18.45,9,17,7.55Zm-12,3A5.31,5.31,0,0,0,4.9,8.1,5.31,5.31,0,0,0,1,6.5,5.31,5.31,0,0,0,4.9,4.9,5.31,5.31,0,0,0,6.5,1,5.31,5.31,0,0,0,8.1,4.9,5.31,5.31,0,0,0,12,6.5,5.46,5.46,0,0,0,6.5,12Z\"/>\n",
              "  </svg>\n",
              "    </button>\n",
              "    <script>\n",
              "      (() => {\n",
              "      const buttonEl =\n",
              "        document.querySelector('#id_4ed03f06-6448-4570-8e8c-2e34895735f8 button.colab-df-generate');\n",
              "      buttonEl.style.display =\n",
              "        google.colab.kernel.accessAllowed ? 'block' : 'none';\n",
              "\n",
              "      buttonEl.onclick = () => {\n",
              "        google.colab.notebook.generateWithVariable('dataset_for_vizual');\n",
              "      }\n",
              "      })();\n",
              "    </script>\n",
              "  </div>\n",
              "\n",
              "    </div>\n",
              "  </div>\n"
            ],
            "application/vnd.google.colaboratory.intrinsic+json": {
              "type": "dataframe",
              "variable_name": "dataset_for_vizual",
              "summary": "{\n  \"name\": \"dataset_for_vizual\",\n  \"rows\": 286,\n  \"fields\": [\n    {\n      \"column\": \"time\",\n      \"properties\": {\n        \"dtype\": \"date\",\n        \"min\": \"2001-07-01 00:00:00\",\n        \"max\": \"2025-04-01 00:00:00\",\n        \"num_unique_values\": 286,\n        \"samples\": [\n          \"2002-04-01 00:00:00\",\n          \"2023-10-01 00:00:00\",\n          \"2013-06-01 00:00:00\"\n        ],\n        \"semantic_type\": \"\",\n        \"description\": \"\"\n      }\n    },\n    {\n      \"column\": \"inflation_rate\",\n      \"properties\": {\n        \"dtype\": \"number\",\n        \"std\": 1.802525831801004,\n        \"min\": -2.1,\n        \"max\": 9.1,\n        \"num_unique_values\": 72,\n        \"samples\": [\n          1.9,\n          8.5,\n          2.9\n        ],\n        \"semantic_type\": \"\",\n        \"description\": \"\"\n      }\n    },\n    {\n      \"column\": \"predicted_mean\",\n      \"properties\": {\n        \"dtype\": \"number\",\n        \"std\": 0.7339391437078872,\n        \"min\": 1.5,\n        \"max\": 3.5,\n        \"num_unique_values\": 6,\n        \"samples\": [\n          2.2,\n          2.8,\n          1.5\n        ],\n        \"semantic_type\": \"\",\n        \"description\": \"\"\n      }\n    }\n  ]\n}"
            }
          },
          "metadata": {},
          "execution_count": 42
        }
      ]
    },
    {
      "cell_type": "code",
      "source": [
        "plt.figure(figsize=(12, 4), dpi=300)\n",
        "\n",
        "sns.lineplot(data=dataset_for_vizual.iloc[-4*validation_period:],\n",
        "             x=dataset_for_vizual.iloc[-4*validation_period:].index,\n",
        "             y='inflation_rate',\n",
        "             label='Фактическая инфляция',\n",
        "             color=\"black\")\n",
        "sns.lineplot(data=dataset_for_vizual.iloc[-validation_period:],\n",
        "             x=dataset_for_vizual.iloc[-validation_period:].index,\n",
        "             y='inflation_rate',\n",
        "             label='Период теста',\n",
        "             color=\"blue\")\n",
        "sns.lineplot(data=dataset_for_vizual.iloc[-4*validation_period:],\n",
        "             x=dataset_for_vizual.iloc[-4*validation_period:].index,\n",
        "             y='predicted_mean',\n",
        "             label='Прогноз теста',\n",
        "             color=\"red\")\n",
        "\n",
        "plt.xlabel('Дата')\n",
        "plt.ylabel('Величина инфляции')\n",
        "plt.ylim(1, 4)\n",
        "plt.grid(True)\n",
        "plt.title(\"SARIMAX\")\n",
        "plt.tight_layout()\n",
        "leg = plt.legend()\n",
        "leg.get_frame().set_linewidth(0)\n",
        "leg.get_frame().set_alpha(0)\n",
        "plt.rcParams['axes.linewidth'] = 0\n",
        "plt.show()\n",
        "plt.savefig(\"drive/MyDrive/hse_diploma/sarimax.png\", dpi=300)"
      ],
      "metadata": {
        "colab": {
          "base_uri": "https://localhost:8080/",
          "height": 484
        },
        "id": "Hpf81pQ-0TmK",
        "outputId": "94b0b512-6860-4e30-948d-4a55e62163cb"
      },
      "execution_count": 52,
      "outputs": [
        {
          "output_type": "display_data",
          "data": {
            "text/plain": [
              "<Figure size 3600x1200 with 1 Axes>"
            ],
            "image/png": "[encoded data removed]"
          },
          "metadata": {}
        },
        {
          "output_type": "display_data",
          "data": {
            "text/plain": [
              "<Figure size 640x480 with 0 Axes>"
            ]
          },
          "metadata": {}
        }
      ]
    },
    {
      "cell_type": "code",
      "source": [],
      "metadata": {
        "id": "oQhdb2fG0Y_q"
      },
      "execution_count": null,
      "outputs": []
    }
  ],
  "metadata": {
    "colab": {
      "provenance": []
    },
    "kernelspec": {
      "display_name": "hse_env",
      "language": "python",
      "name": "python3"
    },
    "language_info": {
      "codemirror_mode": {
        "name": "ipython",
        "version": 3
      },
      "file_extension": ".py",
      "mimetype": "text/x-python",
      "name": "python",
      "nbconvert_exporter": "python",
      "pygments_lexer": "ipython3",
      "version": "3.9.21"
    }
  },
  "nbformat": 4,
  "nbformat_minor": 0
}