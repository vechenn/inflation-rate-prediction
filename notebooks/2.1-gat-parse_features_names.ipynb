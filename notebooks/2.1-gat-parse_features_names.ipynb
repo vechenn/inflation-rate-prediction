{
 "cells": [
  {
   "cell_type": "code",
   "execution_count": 1,
   "metadata": {},
   "outputs": [],
   "source": [
    "import pandas as pd"
   ]
  },
  {
   "cell_type": "code",
   "execution_count": 4,
   "metadata": {},
   "outputs": [],
   "source": [
    "def parse_features(file_path: str):\n",
    "    data = pd.read_csv(file_path)\n",
    "    try:\n",
    "        del data[\"Unnamed: 0\"]\n",
    "    except KeyError:\n",
    "        pass\n",
    "    data['time'] = pd.to_datetime(data['time'])\n",
    "    data.set_index(\"time\", inplace=True)\n",
    "    feature_names = data.drop(columns=[\"inflation_rate\"]).columns.to_list()\n",
    "\n",
    "    parsed_names_list = list()\n",
    "    for i in feature_names:\n",
    "        try:\n",
    "            name = i.split(\"__\")[-2]\n",
    "            parsed_names_list.append(name)\n",
    "        except IndexError:\n",
    "            #print(name)\n",
    "            parsed_names_list.append(i)\n",
    "\n",
    "    parsed_names_set = set(parsed_names_list)\n",
    "\n",
    "    return parsed_names_set"
   ]
  },
  {
   "cell_type": "code",
   "execution_count": 5,
   "metadata": {},
   "outputs": [
    {
     "name": "stdout",
     "output_type": "stream",
     "text": [
      "5\n",
      "{'national_home_price_index', 'house_price_index_yoy', 'case_shiller_home_price_index', 'housing_index', 'housing_starts_single_family'}\n"
     ]
    }
   ],
   "source": [
    "parsed_names_set = parse_features(file_path=\"../data/interim/data_after_selection.csv\")\n",
    "print(len(parsed_names_set))\n",
    "print(parsed_names_set)"
   ]
  },
  {
   "cell_type": "code",
   "execution_count": 6,
   "metadata": {},
   "outputs": [],
   "source": [
    "df = pd.read_csv(\"../data/interim/full_collected_data.csv\")\n",
    "df.rename(columns={\"Date\":\"time\"}, inplace=True)"
   ]
  },
  {
   "cell_type": "code",
   "execution_count": 8,
   "metadata": {},
   "outputs": [],
   "source": [
    "for_save = df[[\"time\"]+list(parsed_names_set)+[\"inflation_rate\"]].copy()"
   ]
  },
  {
   "cell_type": "code",
   "execution_count": 9,
   "metadata": {},
   "outputs": [],
   "source": [
    "for_save.to_csv(\"../data/interim/frame_short_list_plus_target.csv\", index=False)"
   ]
  },
  {
   "cell_type": "code",
   "execution_count": 11,
   "metadata": {},
   "outputs": [
    {
     "data": {
      "text/plain": [
       "time                             0\n",
       "national_home_price_index        0\n",
       "house_price_index_yoy            0\n",
       "case_shiller_home_price_index    0\n",
       "housing_index                    0\n",
       "housing_starts_single_family     0\n",
       "inflation_rate                   0\n",
       "dtype: int64"
      ]
     },
     "execution_count": 11,
     "metadata": {},
     "output_type": "execute_result"
    }
   ],
   "source": [
    "for_save.isna().sum()"
   ]
  },
  {
   "cell_type": "code",
   "execution_count": null,
   "metadata": {},
   "outputs": [],
   "source": []
  }
 ],
 "metadata": {
  "kernelspec": {
   "display_name": "hse_env",
   "language": "python",
   "name": "python3"
  },
  "language_info": {
   "codemirror_mode": {
    "name": "ipython",
    "version": 3
   },
   "file_extension": ".py",
   "mimetype": "text/x-python",
   "name": "python",
   "nbconvert_exporter": "python",
   "pygments_lexer": "ipython3",
   "version": "3.9.21"
  }
 },
 "nbformat": 4,
 "nbformat_minor": 2
}
