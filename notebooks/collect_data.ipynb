{
 "cells": [
  {
   "cell_type": "code",
   "execution_count": 1,
   "metadata": {},
   "outputs": [
    {
     "name": "stderr",
     "output_type": "stream",
     "text": [
      "/var/folders/c6/rtc3mpzn52n42dpmym41ynbr0000gn/T/ipykernel_21598/400152105.py:31: FutureWarning: The behavior of DataFrame concatenation with empty or all-NA entries is deprecated. In a future version, this will no longer exclude empty or all-NA columns when determining the result dtypes. To retain the old behavior, exclude the relevant entries before the concat operation.\n",
      "  full_data = pd.concat(dataframes, ignore_index=True)\n"
     ]
    }
   ],
   "source": [
    "import pandas as pd\n",
    "import os\n",
    "import re\n",
    "\n",
    "folder_path = \"../data/external/features\"\n",
    "csv_files = [f for f in os.listdir(folder_path) if f.endswith('.csv')]\n",
    "\n",
    "dataframes = []\n",
    "for file in csv_files:\n",
    "    file_path = os.path.join(folder_path, file)\n",
    "    df = pd.read_csv(file_path)\n",
    "\n",
    "    start = file.find(\"indicator_\") + len(\"indicator_\")\n",
    "    end = file.rfind(\".csv\")\n",
    "    substring = file[start:end].rstrip(\"_\")\n",
    "\n",
    "    df[\"Indicator\"] = substring\n",
    "    df[\"Filename\"] = file\n",
    "    df = df[[\"DateTime\", \"Close\", \"Frequency\", \"Indicator\", \"Filename\"]].copy()\n",
    "    dataframes.append(df)\n",
    "    del df\n",
    "\n",
    "df = pd.read_csv('../data/external/inflation_target/historical_country_United_States_indicator_inflation_rate.csv')\n",
    "df.rename(columns={\"Value\" : \"Close\"}, inplace=True)\n",
    "df[\"Indicator\"] = \"inflation_rate\"\n",
    "df[\"Filename\"] = \"historical_country_United_States_indicator_inflation_rate.csv\"\n",
    "df = df[[\"DateTime\", \"Close\", \"Frequency\", \"Indicator\", \"Filename\"]].copy()\n",
    "dataframes.append(df)\n",
    "del df \n",
    "\n",
    "full_data = pd.concat(dataframes, ignore_index=True)\n",
    "full_data['DateTime'] = pd.to_datetime(full_data['DateTime'])\n",
    "full_data['DateTime'] = full_data['DateTime'].dt.strftime('%Y-%m-%d')\n",
    "full_data.rename(columns={\"DateTime\" : \"Date\"}, inplace=True)"
   ]
  },
  {
   "cell_type": "code",
   "execution_count": 2,
   "metadata": {},
   "outputs": [
    {
     "name": "stdout",
     "output_type": "stream",
     "text": [
      "Количество файлов: 299.\n",
      "Количество загруженных csv файлов: 299.\n",
      "Данные загружены из 299 файлов.\n",
      "При загрузке пропущены данные из файла: {'historical_country_united_states_indicator_credit_rating_.csv'}\n"
     ]
    }
   ],
   "source": [
    "print(f\"Количество файлов: {len(set(csv_files))}.\")\n",
    "print(f\"Количество загруженных csv файлов: {len(dataframes) - 1}.\")\n",
    "print(f\"Данные загружены из {len(full_data.Filename.unique())} файлов.\")\n",
    "\n",
    "if len(full_data.Filename.unique()) <= len(set(csv_files)):\n",
    "    print(f\"При загрузке пропущены данные из файла: {set(csv_files) - set(full_data.Filename.unique())}\")"
   ]
  },
  {
   "cell_type": "code",
   "execution_count": 3,
   "metadata": {},
   "outputs": [
    {
     "name": "stdout",
     "output_type": "stream",
     "text": [
      "historical_country_united_states_indicator_inflation_expectations_.csv\n",
      "historical_country_united_states_indicator_energy_inflation_.csv\n",
      "historical_country_united_states_indicator_michigan_inflation_expectations_.csv\n",
      "historical_country_united_states_indicator_services_inflation_.csv\n",
      "historical_country_united_states_indicator_michigan_5_year_inflation_expectations_.csv\n",
      "historical_country_united_states_indicator_rent_inflation_.csv\n",
      "historical_country_united_states_indicator_food_inflation_.csv\n",
      "historical_country_united_states_indicator_core_inflation_rate_.csv\n",
      "historical_country_united_states_indicator_core_inflation_rate_mom_.csv\n",
      "historical_country_united_states_indicator_producer_price_inflation_mom_.csv\n",
      "historical_country_united_states_indicator_inflation_rate_mom_.csv\n"
     ]
    }
   ],
   "source": [
    "for name in csv_files:\n",
    "    if \"inflation\" in name:\n",
    "        print(name)"
   ]
  },
  {
   "cell_type": "code",
   "execution_count": 4,
   "metadata": {},
   "outputs": [
    {
     "name": "stdout",
     "output_type": "stream",
     "text": [
      "(246554, 5)\n",
      "\n",
      "Date          object\n",
      "Close        float64\n",
      "Frequency     object\n",
      "Indicator     object\n",
      "Filename      object\n",
      "dtype: object\n",
      "\n",
      "<bound method NDFrame.describe of               Date   Close Frequency       Indicator  \\\n",
      "0       2000-12-31  4335.0   Monthly   job_vacancies   \n",
      "1       2001-01-31  5592.0   Monthly   job_vacancies   \n",
      "2       2001-02-28  4844.0   Monthly   job_vacancies   \n",
      "3       2001-03-31  4514.0   Monthly   job_vacancies   \n",
      "4       2001-04-30  5095.0   Monthly   job_vacancies   \n",
      "...            ...     ...       ...             ...   \n",
      "246549  2024-11-30     2.7   Monthly  inflation_rate   \n",
      "246550  2024-12-31     2.9   Monthly  inflation_rate   \n",
      "246551  2025-01-31     3.0   Monthly  inflation_rate   \n",
      "246552  2025-02-28     2.8   Monthly  inflation_rate   \n",
      "246553  2025-03-31     2.4   Monthly  inflation_rate   \n",
      "\n",
      "                                                 Filename  \n",
      "0       historical_country_united_states_indicator_job...  \n",
      "1       historical_country_united_states_indicator_job...  \n",
      "2       historical_country_united_states_indicator_job...  \n",
      "3       historical_country_united_states_indicator_job...  \n",
      "4       historical_country_united_states_indicator_job...  \n",
      "...                                                   ...  \n",
      "246549  historical_country_United_States_indicator_inf...  \n",
      "246550  historical_country_United_States_indicator_inf...  \n",
      "246551  historical_country_United_States_indicator_inf...  \n",
      "246552  historical_country_United_States_indicator_inf...  \n",
      "246553  historical_country_United_States_indicator_inf...  \n",
      "\n",
      "[246554 rows x 5 columns]>\n",
      "\n",
      "Date         0\n",
      "Close        0\n",
      "Frequency    0\n",
      "Indicator    0\n",
      "Filename     0\n",
      "dtype: int64\n"
     ]
    }
   ],
   "source": [
    "print(full_data.shape, end=\"\\n\\n\")\n",
    "print(full_data.dtypes, end=\"\\n\\n\")\n",
    "print(full_data.describe, end=\"\\n\\n\")\n",
    "print(full_data.isna().sum())"
   ]
  },
  {
   "cell_type": "code",
   "execution_count": 5,
   "metadata": {},
   "outputs": [
    {
     "name": "stdout",
     "output_type": "stream",
     "text": [
      "<class 'pandas.core.frame.DataFrame'>\n",
      "RangeIndex: 246554 entries, 0 to 246553\n",
      "Data columns (total 5 columns):\n",
      " #   Column     Non-Null Count   Dtype  \n",
      "---  ------     --------------   -----  \n",
      " 0   Date       246554 non-null  object \n",
      " 1   Close      246554 non-null  float64\n",
      " 2   Frequency  246554 non-null  object \n",
      " 3   Indicator  246554 non-null  object \n",
      " 4   Filename   246554 non-null  object \n",
      "dtypes: float64(1), object(4)\n",
      "memory usage: 9.4+ MB\n"
     ]
    }
   ],
   "source": [
    "full_data.info()"
   ]
  },
  {
   "cell_type": "code",
   "execution_count": 6,
   "metadata": {},
   "outputs": [
    {
     "data": {
      "text/html": [
       "<div>\n",
       "<style scoped>\n",
       "    .dataframe tbody tr th:only-of-type {\n",
       "        vertical-align: middle;\n",
       "    }\n",
       "\n",
       "    .dataframe tbody tr th {\n",
       "        vertical-align: top;\n",
       "    }\n",
       "\n",
       "    .dataframe thead th {\n",
       "        text-align: right;\n",
       "    }\n",
       "</style>\n",
       "<table border=\"1\" class=\"dataframe\">\n",
       "  <thead>\n",
       "    <tr style=\"text-align: right;\">\n",
       "      <th></th>\n",
       "      <th>Date</th>\n",
       "      <th>Close</th>\n",
       "      <th>Frequency</th>\n",
       "      <th>Indicator</th>\n",
       "      <th>Filename</th>\n",
       "    </tr>\n",
       "  </thead>\n",
       "  <tbody>\n",
       "    <tr>\n",
       "      <th>0</th>\n",
       "      <td>2000-12-31</td>\n",
       "      <td>4335.0</td>\n",
       "      <td>Monthly</td>\n",
       "      <td>job_vacancies</td>\n",
       "      <td>historical_country_united_states_indicator_job...</td>\n",
       "    </tr>\n",
       "    <tr>\n",
       "      <th>1</th>\n",
       "      <td>2001-01-31</td>\n",
       "      <td>5592.0</td>\n",
       "      <td>Monthly</td>\n",
       "      <td>job_vacancies</td>\n",
       "      <td>historical_country_united_states_indicator_job...</td>\n",
       "    </tr>\n",
       "    <tr>\n",
       "      <th>2</th>\n",
       "      <td>2001-02-28</td>\n",
       "      <td>4844.0</td>\n",
       "      <td>Monthly</td>\n",
       "      <td>job_vacancies</td>\n",
       "      <td>historical_country_united_states_indicator_job...</td>\n",
       "    </tr>\n",
       "    <tr>\n",
       "      <th>3</th>\n",
       "      <td>2001-03-31</td>\n",
       "      <td>4514.0</td>\n",
       "      <td>Monthly</td>\n",
       "      <td>job_vacancies</td>\n",
       "      <td>historical_country_united_states_indicator_job...</td>\n",
       "    </tr>\n",
       "    <tr>\n",
       "      <th>4</th>\n",
       "      <td>2001-04-30</td>\n",
       "      <td>5095.0</td>\n",
       "      <td>Monthly</td>\n",
       "      <td>job_vacancies</td>\n",
       "      <td>historical_country_united_states_indicator_job...</td>\n",
       "    </tr>\n",
       "  </tbody>\n",
       "</table>\n",
       "</div>"
      ],
      "text/plain": [
       "         Date   Close Frequency      Indicator  \\\n",
       "0  2000-12-31  4335.0   Monthly  job_vacancies   \n",
       "1  2001-01-31  5592.0   Monthly  job_vacancies   \n",
       "2  2001-02-28  4844.0   Monthly  job_vacancies   \n",
       "3  2001-03-31  4514.0   Monthly  job_vacancies   \n",
       "4  2001-04-30  5095.0   Monthly  job_vacancies   \n",
       "\n",
       "                                            Filename  \n",
       "0  historical_country_united_states_indicator_job...  \n",
       "1  historical_country_united_states_indicator_job...  \n",
       "2  historical_country_united_states_indicator_job...  \n",
       "3  historical_country_united_states_indicator_job...  \n",
       "4  historical_country_united_states_indicator_job...  "
      ]
     },
     "execution_count": 6,
     "metadata": {},
     "output_type": "execute_result"
    }
   ],
   "source": [
    "full_data.head()"
   ]
  },
  {
   "cell_type": "code",
   "execution_count": 7,
   "metadata": {},
   "outputs": [
    {
     "data": {
      "text/plain": [
       "Frequency\n",
       "Monthly      109130\n",
       "Weekly        72735\n",
       "Daily         44411\n",
       "Quarterly      9957\n",
       "weekly         8880\n",
       "Yearly         1441\n",
       "Name: count, dtype: int64"
      ]
     },
     "execution_count": 7,
     "metadata": {},
     "output_type": "execute_result"
    }
   ],
   "source": [
    "full_data.Frequency.value_counts()"
   ]
  },
  {
   "cell_type": "code",
   "execution_count": 8,
   "metadata": {},
   "outputs": [],
   "source": [
    "full_data = full_data[full_data.Frequency != \"Yearly\"].copy()"
   ]
  },
  {
   "cell_type": "code",
   "execution_count": 9,
   "metadata": {},
   "outputs": [],
   "source": [
    "full_data.to_csv(\"../data/interim/full_collected_data.csv\", index=False)"
   ]
  }
 ],
 "metadata": {
  "kernelspec": {
   "display_name": "hse_kernel",
   "language": "python",
   "name": "hse_kernel"
  },
  "language_info": {
   "codemirror_mode": {
    "name": "ipython",
    "version": 3
   },
   "file_extension": ".py",
   "mimetype": "text/x-python",
   "name": "python",
   "nbconvert_exporter": "python",
   "pygments_lexer": "ipython3",
   "version": "3.9.21"
  }
 },
 "nbformat": 4,
 "nbformat_minor": 2
}
