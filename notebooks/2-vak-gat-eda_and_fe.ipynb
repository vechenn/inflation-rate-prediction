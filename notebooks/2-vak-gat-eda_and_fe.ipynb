{
 "cells": [
  {
   "cell_type": "markdown",
   "metadata": {},
   "source": [
    "# EDA, Feature engineering"
   ]
  },
  {
   "cell_type": "code",
   "execution_count": 1,
   "metadata": {},
   "outputs": [],
   "source": [
    "import pandas as pd\n",
    "\n",
    "from statsmodels.tsa.stattools import adfuller\n",
    "import matplotlib.pyplot as plt\n",
    "\n",
    "from tsfresh import extract_features, select_features\n",
    "from tsfresh.utilities.dataframe_functions import impute, roll_time_series\n",
    "from tsfresh.feature_extraction import EfficientFCParameters\n",
    "\n",
    "import warnings\n",
    "\n",
    "# Отключить все предупреждения tsfresh\n",
    "warnings.filterwarnings(\"ignore\", module=\"tsfresh\")"
   ]
  },
  {
   "cell_type": "code",
   "execution_count": 2,
   "metadata": {},
   "outputs": [
    {
     "data": {
      "text/html": [
       "<div>\n",
       "<style scoped>\n",
       "    .dataframe tbody tr th:only-of-type {\n",
       "        vertical-align: middle;\n",
       "    }\n",
       "\n",
       "    .dataframe tbody tr th {\n",
       "        vertical-align: top;\n",
       "    }\n",
       "\n",
       "    .dataframe thead th {\n",
       "        text-align: right;\n",
       "    }\n",
       "</style>\n",
       "<table border=\"1\" class=\"dataframe\">\n",
       "  <thead>\n",
       "    <tr style=\"text-align: right;\">\n",
       "      <th></th>\n",
       "      <th>time</th>\n",
       "      <th>15_year_mortgage_rate</th>\n",
       "      <th>30_year_mortgage_rate</th>\n",
       "      <th>auto_exports</th>\n",
       "      <th>average_house_prices</th>\n",
       "      <th>average_mortgage_size</th>\n",
       "      <th>balance_of_trade</th>\n",
       "      <th>bank_lending_rate</th>\n",
       "      <th>banks_balance_sheet</th>\n",
       "      <th>building_permits</th>\n",
       "      <th>...</th>\n",
       "      <th>unemployed_persons</th>\n",
       "      <th>unemployment_rate</th>\n",
       "      <th>used_car_prices_mom</th>\n",
       "      <th>used_car_prices_yoy</th>\n",
       "      <th>wage_growth</th>\n",
       "      <th>wages</th>\n",
       "      <th>wages_in_manufacturing</th>\n",
       "      <th>weekly_crude_oil_production</th>\n",
       "      <th>wholesale_inventories</th>\n",
       "      <th>youth_unemployment_rate</th>\n",
       "    </tr>\n",
       "  </thead>\n",
       "  <tbody>\n",
       "    <tr>\n",
       "      <th>287</th>\n",
       "      <td>2024-12-01</td>\n",
       "      <td>5.9300</td>\n",
       "      <td>6.7150</td>\n",
       "      <td>72.9</td>\n",
       "      <td>478400.0</td>\n",
       "      <td>402.873</td>\n",
       "      <td>-73.73</td>\n",
       "      <td>7.75</td>\n",
       "      <td>23721.200</td>\n",
       "      <td>1493.0</td>\n",
       "      <td>...</td>\n",
       "      <td>7121.0</td>\n",
       "      <td>4.2</td>\n",
       "      <td>1.3</td>\n",
       "      <td>0.2</td>\n",
       "      <td>5.00</td>\n",
       "      <td>30.58</td>\n",
       "      <td>28.22</td>\n",
       "      <td>13598.25</td>\n",
       "      <td>-0.1</td>\n",
       "      <td>9.4</td>\n",
       "    </tr>\n",
       "    <tr>\n",
       "      <th>288</th>\n",
       "      <td>2025-01-01</td>\n",
       "      <td>6.1640</td>\n",
       "      <td>6.9580</td>\n",
       "      <td>55.4</td>\n",
       "      <td>509700.0</td>\n",
       "      <td>400.930</td>\n",
       "      <td>-78.24</td>\n",
       "      <td>7.50</td>\n",
       "      <td>23693.400</td>\n",
       "      <td>1482.0</td>\n",
       "      <td>...</td>\n",
       "      <td>6886.0</td>\n",
       "      <td>4.1</td>\n",
       "      <td>-0.3</td>\n",
       "      <td>0.4</td>\n",
       "      <td>5.12</td>\n",
       "      <td>30.67</td>\n",
       "      <td>28.33</td>\n",
       "      <td>13447.80</td>\n",
       "      <td>-0.4</td>\n",
       "      <td>9.0</td>\n",
       "    </tr>\n",
       "    <tr>\n",
       "      <th>289</th>\n",
       "      <td>2025-02-01</td>\n",
       "      <td>6.0300</td>\n",
       "      <td>6.8425</td>\n",
       "      <td>68.7</td>\n",
       "      <td>510000.0</td>\n",
       "      <td>403.416</td>\n",
       "      <td>-98.06</td>\n",
       "      <td>7.50</td>\n",
       "      <td>23766.975</td>\n",
       "      <td>1473.0</td>\n",
       "      <td>...</td>\n",
       "      <td>6849.0</td>\n",
       "      <td>4.0</td>\n",
       "      <td>0.4</td>\n",
       "      <td>0.8</td>\n",
       "      <td>5.04</td>\n",
       "      <td>30.80</td>\n",
       "      <td>28.58</td>\n",
       "      <td>13500.25</td>\n",
       "      <td>0.8</td>\n",
       "      <td>9.0</td>\n",
       "    </tr>\n",
       "    <tr>\n",
       "      <th>290</th>\n",
       "      <td>2025-03-01</td>\n",
       "      <td>5.8275</td>\n",
       "      <td>6.6500</td>\n",
       "      <td>64.4</td>\n",
       "      <td>487100.0</td>\n",
       "      <td>397.516</td>\n",
       "      <td>-130.65</td>\n",
       "      <td>7.50</td>\n",
       "      <td>23975.150</td>\n",
       "      <td>1459.0</td>\n",
       "      <td>...</td>\n",
       "      <td>7052.0</td>\n",
       "      <td>4.1</td>\n",
       "      <td>-0.7</td>\n",
       "      <td>0.1</td>\n",
       "      <td>4.23</td>\n",
       "      <td>30.91</td>\n",
       "      <td>28.68</td>\n",
       "      <td>13575.50</td>\n",
       "      <td>0.5</td>\n",
       "      <td>9.7</td>\n",
       "    </tr>\n",
       "    <tr>\n",
       "      <th>291</th>\n",
       "      <td>2025-04-01</td>\n",
       "      <td>5.9025</td>\n",
       "      <td>6.7250</td>\n",
       "      <td>101.1</td>\n",
       "      <td>497700.0</td>\n",
       "      <td>381.921</td>\n",
       "      <td>-122.66</td>\n",
       "      <td>7.50</td>\n",
       "      <td>24156.200</td>\n",
       "      <td>1467.0</td>\n",
       "      <td>...</td>\n",
       "      <td>7083.0</td>\n",
       "      <td>4.2</td>\n",
       "      <td>-0.7</td>\n",
       "      <td>-0.2</td>\n",
       "      <td>3.54</td>\n",
       "      <td>30.96</td>\n",
       "      <td>28.92</td>\n",
       "      <td>13460.00</td>\n",
       "      <td>0.5</td>\n",
       "      <td>9.4</td>\n",
       "    </tr>\n",
       "  </tbody>\n",
       "</table>\n",
       "<p>5 rows × 173 columns</p>\n",
       "</div>"
      ],
      "text/plain": [
       "          time  15_year_mortgage_rate  30_year_mortgage_rate  auto_exports  \\\n",
       "287 2024-12-01                 5.9300                 6.7150          72.9   \n",
       "288 2025-01-01                 6.1640                 6.9580          55.4   \n",
       "289 2025-02-01                 6.0300                 6.8425          68.7   \n",
       "290 2025-03-01                 5.8275                 6.6500          64.4   \n",
       "291 2025-04-01                 5.9025                 6.7250         101.1   \n",
       "\n",
       "     average_house_prices  average_mortgage_size  balance_of_trade  \\\n",
       "287              478400.0                402.873            -73.73   \n",
       "288              509700.0                400.930            -78.24   \n",
       "289              510000.0                403.416            -98.06   \n",
       "290              487100.0                397.516           -130.65   \n",
       "291              497700.0                381.921           -122.66   \n",
       "\n",
       "     bank_lending_rate  banks_balance_sheet  building_permits  ...  \\\n",
       "287               7.75            23721.200            1493.0  ...   \n",
       "288               7.50            23693.400            1482.0  ...   \n",
       "289               7.50            23766.975            1473.0  ...   \n",
       "290               7.50            23975.150            1459.0  ...   \n",
       "291               7.50            24156.200            1467.0  ...   \n",
       "\n",
       "     unemployed_persons  unemployment_rate  used_car_prices_mom  \\\n",
       "287              7121.0                4.2                  1.3   \n",
       "288              6886.0                4.1                 -0.3   \n",
       "289              6849.0                4.0                  0.4   \n",
       "290              7052.0                4.1                 -0.7   \n",
       "291              7083.0                4.2                 -0.7   \n",
       "\n",
       "     used_car_prices_yoy  wage_growth  wages  wages_in_manufacturing  \\\n",
       "287                  0.2         5.00  30.58                   28.22   \n",
       "288                  0.4         5.12  30.67                   28.33   \n",
       "289                  0.8         5.04  30.80                   28.58   \n",
       "290                  0.1         4.23  30.91                   28.68   \n",
       "291                 -0.2         3.54  30.96                   28.92   \n",
       "\n",
       "     weekly_crude_oil_production  wholesale_inventories  \\\n",
       "287                     13598.25                   -0.1   \n",
       "288                     13447.80                   -0.4   \n",
       "289                     13500.25                    0.8   \n",
       "290                     13575.50                    0.5   \n",
       "291                     13460.00                    0.5   \n",
       "\n",
       "     youth_unemployment_rate  \n",
       "287                      9.4  \n",
       "288                      9.0  \n",
       "289                      9.0  \n",
       "290                      9.7  \n",
       "291                      9.4  \n",
       "\n",
       "[5 rows x 173 columns]"
      ]
     },
     "execution_count": 2,
     "metadata": {},
     "output_type": "execute_result"
    }
   ],
   "source": [
    "df = pd.read_csv(\"../data/interim/full_collected_data.csv\", parse_dates=[0])\n",
    "df.rename(columns={\"Date\":\"time\"}, inplace=True)\n",
    "df.tail()"
   ]
  },
  {
   "cell_type": "markdown",
   "metadata": {},
   "source": [
    "**Проверка наличия всех месяцев в датах**"
   ]
  },
  {
   "cell_type": "code",
   "execution_count": 3,
   "metadata": {},
   "outputs": [
    {
     "name": "stdout",
     "output_type": "stream",
     "text": [
      "Все месяцы присутствуют.\n"
     ]
    }
   ],
   "source": [
    "start = df['time'].min()\n",
    "end = df['time'].max()\n",
    "\n",
    "expected_month_ends = pd.date_range(start=start, end=end, freq='MS')\n",
    "actual_month_ends = pd.Series(df['time'].unique()).sort_values()\n",
    "missing = expected_month_ends.difference(actual_month_ends)\n",
    "\n",
    "if missing.empty:\n",
    "    print(\"Все месяцы присутствуют.\")\n",
    "else:\n",
    "    print(\"Пропущены месяцы:\")\n",
    "    print(missing)"
   ]
  },
  {
   "cell_type": "markdown",
   "metadata": {},
   "source": [
    "**Проверка таргета на стационарность**"
   ]
  },
  {
   "cell_type": "code",
   "execution_count": 4,
   "metadata": {},
   "outputs": [
    {
     "name": "stdout",
     "output_type": "stream",
     "text": [
      "p-значение: 0.03864665608011116, значит гипотеза о нестационарности отвергается на уровне значимости 0.05.\n"
     ]
    }
   ],
   "source": [
    "target = df['inflation_rate']\n",
    "\n",
    "def check_stationarity(series, name):\n",
    "    result_adf = adfuller(series.dropna(), autolag='AIC')\n",
    "\n",
    "    return {\n",
    "        'feature': name,\n",
    "        'adf_pvalue': result_adf[1],\n",
    "        'adf_statistic': result_adf[0]\n",
    "    }\n",
    "\n",
    "stationarity_results = check_stationarity(target, 'inflation_rate')\n",
    "p_val = stationarity_results[\"adf_pvalue\"]\n",
    "\n",
    "if p_val < 0.05:\n",
    "    print(f\"p-значение: {p_val}, значит гипотеза о нестационарности отвергается на уровне значимости 0.05.\")\n",
    "else:\n",
    "    print(\"Нет возомжноси отвергнуть нулевую гипотезу о нестационарности.\")"
   ]
  },
  {
   "cell_type": "markdown",
   "metadata": {},
   "source": [
    "**Работа с Tsfresh для генерациии новых признаков в виде новых рядов**"
   ]
  },
  {
   "cell_type": "code",
   "execution_count": null,
   "metadata": {},
   "outputs": [],
   "source": [
    "def tsfresh_feature_engineering(dataset: pd.DataFrame) -> pd.DataFrame:\n",
    "\n",
    "    wide_dataset = dataset.drop(columns=['inflation_rate']).copy()\n",
    "    wide_dataset.set_index(\"time\", inplace=True)\n",
    "    wide_dataset.sort_index(inplace=True)\n",
    "\n",
    "    # Определяем начальную и конечную дату для генерации признаков\n",
    "    start_date_obj = wide_dataset.index.min()\n",
    "    start_date_str = start_date_obj.strftime(\"%Y-%m-%d\")\n",
    "    last_date_obj = wide_dataset.index.max()\n",
    "    last_date_str = last_date_obj.strftime('%Y-%m-%d')\n",
    "\n",
    "    extracted_features_dataset = pd.DataFrame(index=pd.date_range(start=start_date_str,\n",
    "                                                                  end=last_date_str,\n",
    "                                                                  freq=\"MS\"))\n",
    "    extracted_features_dataset.index.name = \"time\"\n",
    "    \n",
    "    long_dataset = wide_dataset.reset_index().melt(id_vars=['time'], var_name='id', value_name='value')\n",
    "\n",
    "    for size in [2,3,6]:\n",
    "        # 1. Условия генерации окон\n",
    "        window_size = size\n",
    "        id_column = \"id\"\n",
    "        time_column = \"time\"\n",
    "\n",
    "        print(f\"Start with window_size {size}!\")\n",
    "        # 2. Генерация окон\n",
    "        rolled = roll_time_series(\n",
    "            long_dataset,\n",
    "            column_id=id_column,\n",
    "            column_sort=time_column,\n",
    "            max_timeshift=window_size-1,\n",
    "            min_timeshift=0,\n",
    "            rolling_direction=1\n",
    "        )\n",
    "\n",
    "        # 3. Извлечение признаков из каждого окна\n",
    "        new_features = extract_features(\n",
    "            rolled,\n",
    "            column_id=id_column,\n",
    "            column_sort=time_column,\n",
    "            n_jobs=6,\n",
    "            default_fc_parameters=EfficientFCParameters()\n",
    "        )\n",
    "        # 4. Заполнение пропусков\n",
    "        new_extracted_features_for_size = impute(new_features)\n",
    "\n",
    "        \n",
    "        new_extracted_features_for_size.index.names = ['feature', 'time']\n",
    "\n",
    "        unstacked_frame = new_extracted_features_for_size.unstack(level=0)\n",
    "        unstacked_frame.columns = ['__'.join(col).strip() for col in unstacked_frame.columns.values]\n",
    "        unstacked_frame = unstacked_frame.reset_index().set_index('time')\n",
    "        suf = f'__{size}M'\n",
    "        unstacked_frame = unstacked_frame.add_suffix(suf)\n",
    "            \n",
    "        extracted_features_dataset = extracted_features_dataset.join(unstacked_frame,\n",
    "                                                                     on='time',\n",
    "                                                                     how='left')\n",
    "        del rolled\n",
    "        del new_features\n",
    "        del new_extracted_features_for_size\n",
    "        del unstacked_frame\n",
    "\n",
    "        print(f\"Finish with window_size {size}!\")\n",
    "\n",
    "    return extracted_features_dataset"
   ]
  },
  {
   "cell_type": "code",
   "execution_count": 6,
   "metadata": {},
   "outputs": [
    {
     "name": "stdout",
     "output_type": "stream",
     "text": [
      "Start with window_size 2!\n"
     ]
    },
    {
     "name": "stderr",
     "output_type": "stream",
     "text": [
      "Rolling: 100%|██████████| 20/20 [00:03<00:00,  5.94it/s]\n",
      "Feature Extraction: 100%|██████████| 30/30 [03:33<00:00,  7.11s/it]\n"
     ]
    },
    {
     "name": "stdout",
     "output_type": "stream",
     "text": [
      "Finish with window_size 2!\n",
      "Start with window_size 3!\n"
     ]
    },
    {
     "name": "stderr",
     "output_type": "stream",
     "text": [
      "Rolling: 100%|██████████| 20/20 [00:03<00:00,  5.96it/s]\n",
      "Feature Extraction: 100%|██████████| 30/30 [03:57<00:00,  7.91s/it]\n"
     ]
    },
    {
     "name": "stdout",
     "output_type": "stream",
     "text": [
      "Finish with window_size 3!\n",
      "Start with window_size 6!\n"
     ]
    },
    {
     "name": "stderr",
     "output_type": "stream",
     "text": [
      "Rolling: 100%|██████████| 20/20 [00:03<00:00,  5.93it/s]\n",
      "Feature Extraction: 100%|██████████| 30/30 [04:08<00:00,  8.27s/it]\n"
     ]
    },
    {
     "name": "stdout",
     "output_type": "stream",
     "text": [
      "Finish with window_size 6!\n",
      "CPU times: user 5min 42s, sys: 1min 38s, total: 7min 20s\n",
      "Wall time: 16min 48s\n"
     ]
    }
   ],
   "source": [
    "%%time\n",
    "extracted_features_dataset = tsfresh_feature_engineering(df)"
   ]
  },
  {
   "cell_type": "code",
   "execution_count": 7,
   "metadata": {},
   "outputs": [
    {
     "name": "stdout",
     "output_type": "stream",
     "text": [
      "Минимальная дисперсия в исходных данных: 0.1365060545643701\n"
     ]
    }
   ],
   "source": [
    "min_var = df.drop(columns=[\"time\"]).describe().loc[\"std\"].min()\n",
    "print(f\"Минимальная дисперсия в исходных данных: {min_var}\")\n",
    "del min_var"
   ]
  },
  {
   "cell_type": "code",
   "execution_count": 8,
   "metadata": {},
   "outputs": [],
   "source": [
    "full_features_dataset = pd.merge(df, extracted_features_dataset, on=\"time\")\n",
    "full_features_dataset.shape[1] == df.shape[1] + extracted_features_dataset.shape[1]\n",
    "del extracted_features_dataset\n",
    "del full_features_dataset[\"inflation_rate\"]"
   ]
  },
  {
   "cell_type": "code",
   "execution_count": 9,
   "metadata": {},
   "outputs": [
    {
     "name": "stdout",
     "output_type": "stream",
     "text": [
      "(292, 48243) (292, 398772) (292, 398773)\n"
     ]
    }
   ],
   "source": [
    "from sklearn.feature_selection import VarianceThreshold\n",
    "features_numeric = full_features_dataset.select_dtypes(include='number')\n",
    "# Применим фильтр по дисперсии\n",
    "var_filter = VarianceThreshold(threshold=0.1)\n",
    "features_filtered_array = var_filter.fit_transform(features_numeric)\n",
    "selected_columns = features_numeric.columns[var_filter.get_support()]\n",
    "features_filtered = pd.DataFrame(features_filtered_array, columns=selected_columns, index=features_numeric.index)\n",
    "# Выведем количество удалённых признаков\n",
    "print(features_filtered.shape, features_numeric.shape, full_features_dataset.shape)\n",
    "del features_numeric"
   ]
  },
  {
   "cell_type": "code",
   "execution_count": 10,
   "metadata": {},
   "outputs": [],
   "source": [
    "forecast_horizon = 6\n",
    "df.set_index(\"time\", inplace=True)"
   ]
  },
  {
   "cell_type": "code",
   "execution_count": 11,
   "metadata": {},
   "outputs": [],
   "source": [
    "features_filtered[\"time\"] = full_features_dataset[\"time\"]\n",
    "features_filtered.set_index(\"time\", inplace=True)"
   ]
  },
  {
   "cell_type": "code",
   "execution_count": null,
   "metadata": {},
   "outputs": [
    {
     "name": "stdout",
     "output_type": "stream",
     "text": [
      "Отобрано признаков: 14317\n"
     ]
    }
   ],
   "source": [
    "inflation = df[\"inflation_rate\"]\n",
    "y = inflation.shift(-forecast_horizon)\n",
    "y = y.dropna()\n",
    "y = y[forecast_horizon - 1:]\n",
    "\n",
    "selected_features = select_features(features_filtered.iloc[forecast_horizon - 1:-forecast_horizon], y)\n",
    "\n",
    "print(\"Отобрано признаков:\", selected_features.shape[1])\n",
    "#print(\"Список отобранных признаков:\")\n",
    "#print(selected_features.columns.tolist())"
   ]
  },
  {
   "cell_type": "code",
   "execution_count": null,
   "metadata": {},
   "outputs": [],
   "source": [
    "inflation = df[\"inflation_rate\"]\n",
    "y = inflation.shift(-forecast_horizon)\n",
    "y = y.dropna()\n",
    "y = y[forecast_horizon - 1:]\n",
    "\n",
    "from sklearn.feature_selection import mutual_info_regression\n",
    "\n",
    "# Расчёт взаимной информации\n",
    "mi = mutual_info_regression(selected_features.reset_index(drop=True), y, random_state=42)\n",
    "mi_scores = pd.Series(mi, index=selected_features.reset_index(drop=True).columns).sort_values(ascending=False)\n",
    "# Берем топ-300 признаков по взаимной информации\n",
    "top_features = mi_scores.head(300).index.tolist()\n",
    "\n",
    "# Выводим имена и значения MI\n",
    "# print(\"Top 300 признаков по взаимной информации:\")\n",
    "# print(mi_scores.head(300))"
   ]
  },
  {
   "cell_type": "code",
   "execution_count": 14,
   "metadata": {},
   "outputs": [
    {
     "data": {
      "text/plain": [
       "time\n",
       "2001-01-01    3.4\n",
       "2001-02-01    3.7\n",
       "2001-03-01    3.5\n",
       "2001-04-01    2.9\n",
       "2001-05-01    3.3\n",
       "             ... \n",
       "2024-12-01    2.7\n",
       "2025-01-01    2.9\n",
       "2025-02-01    3.0\n",
       "2025-03-01    2.8\n",
       "2025-04-01    2.4\n",
       "Name: inflation_rate, Length: 292, dtype: float64"
      ]
     },
     "execution_count": 14,
     "metadata": {},
     "output_type": "execute_result"
    }
   ],
   "source": [
    "df[\"inflation_rate\"]"
   ]
  },
  {
   "cell_type": "code",
   "execution_count": 17,
   "metadata": {},
   "outputs": [],
   "source": [
    "X_selected = full_features_dataset[[\"time\"] + top_features].copy()\n",
    "X_selected = pd.merge(X_selected, df[\"inflation_rate\"], on=\"time\", how=\"left\")"
   ]
  },
  {
   "cell_type": "code",
   "execution_count": 19,
   "metadata": {},
   "outputs": [],
   "source": [
    "X_selected.columns = [col.replace('.', '_').replace(', ', '_').replace(')', '').replace('(', '') for col in X_selected.columns]\n",
    "X_selected.to_csv(\"../data/interim/data_after_selection.csv\")"
   ]
  }
 ],
 "metadata": {
  "kernelspec": {
   "display_name": "hse_env",
   "language": "python",
   "name": "python3"
  },
  "language_info": {
   "codemirror_mode": {
    "name": "ipython",
    "version": 3
   },
   "file_extension": ".py",
   "mimetype": "text/x-python",
   "name": "python",
   "nbconvert_exporter": "python",
   "pygments_lexer": "ipython3",
   "version": "3.9.21"
  }
 },
 "nbformat": 4,
 "nbformat_minor": 2
}
